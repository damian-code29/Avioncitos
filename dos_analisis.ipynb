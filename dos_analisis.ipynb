{
 "cells": [
  {
   "cell_type": "markdown",
   "metadata": {},
   "source": [
    "Analisis exploratorio.\n",
    "\n",
    "para iniciar con el analisis, vamos a ahcer seguimiento al KPI propuesto.\n"
   ]
  },
  {
   "cell_type": "code",
   "execution_count": 1,
   "metadata": {},
   "outputs": [],
   "source": [
    "# importamos las librerias que vamos necesitando durante el proceso.\n",
    "import pandas as pd\n",
    "import numpy as np \n",
    "import matplotlib.pyplot as plt\n",
    "import plotly.express as px\n"
   ]
  },
  {
   "cell_type": "code",
   "execution_count": 2,
   "metadata": {},
   "outputs": [],
   "source": [
    "#traemos nuestro archivo csv.\n",
    "aa=pd.read_csv('avis.csv',sep='|',encoding='utf-8')"
   ]
  },
  {
   "cell_type": "code",
   "execution_count": 3,
   "metadata": {},
   "outputs": [
    {
     "name": "stdout",
     "output_type": "stream",
     "text": [
      "<class 'pandas.core.frame.DataFrame'>\n",
      "RangeIndex: 4991 entries, 0 to 4990\n",
      "Data columns (total 16 columns):\n",
      " #   Column             Non-Null Count  Dtype  \n",
      "---  ------             --------------  -----  \n",
      " 0   fecha              4991 non-null   object \n",
      " 1   hora               3492 non-null   object \n",
      " 2   pais               4991 non-null   object \n",
      " 3   operadora          4981 non-null   object \n",
      " 4   vuelo_numero       1325 non-null   object \n",
      " 5   ruta               4242 non-null   object \n",
      " 6   tipo_aeronave      4991 non-null   object \n",
      " 7   registro_aeronave  189 non-null    float64\n",
      " 8   abordo             4991 non-null   int64  \n",
      " 9   pasajeros          4787 non-null   float64\n",
      " 10  tripulantes        4789 non-null   float64\n",
      " 11  bajas              4991 non-null   int64  \n",
      " 12  bajas_pasajeros    4770 non-null   float64\n",
      " 13  bajas_tripulacion  4771 non-null   float64\n",
      " 14  bajas_tierra       4959 non-null   float64\n",
      " 15  Descripcion        4940 non-null   object \n",
      "dtypes: float64(6), int64(2), object(8)\n",
      "memory usage: 624.0+ KB\n"
     ]
    }
   ],
   "source": [
    "aa.info()"
   ]
  },
  {
   "cell_type": "code",
   "execution_count": 4,
   "metadata": {},
   "outputs": [
    {
     "data": {
      "text/plain": [
       "(4991, 16)"
      ]
     },
     "execution_count": 4,
     "metadata": {},
     "output_type": "execute_result"
    }
   ],
   "source": [
    "aa.shape"
   ]
  },
  {
   "cell_type": "code",
   "execution_count": 5,
   "metadata": {},
   "outputs": [],
   "source": [
    "columnas_a_eliminar = [\"hora\", \"vuelo_numero\", \"registro_aeronave\",'Descripcion']\n",
    "aa = aa.drop(columnas_a_eliminar, axis=1)\n",
    "\n",
    "# formatizo bien la fecha\n",
    "aa['fecha'] = pd.to_datetime(aa['fecha'])\n",
    "\n",
    "#las columnas a números\n",
    "columnas_numericas = ['abordo', 'pasajeros', 'tripulantes', 'bajas', 'bajas_pasajeros', 'bajas_tripulacion', 'bajas_tierra']\n",
    "aa[columnas_numericas] = aa[columnas_numericas].fillna(0).astype(int)"
   ]
  },
  {
   "cell_type": "code",
   "execution_count": 6,
   "metadata": {},
   "outputs": [
    {
     "data": {
      "text/html": [
       "<div>\n",
       "<style scoped>\n",
       "    .dataframe tbody tr th:only-of-type {\n",
       "        vertical-align: middle;\n",
       "    }\n",
       "\n",
       "    .dataframe tbody tr th {\n",
       "        vertical-align: top;\n",
       "    }\n",
       "\n",
       "    .dataframe thead th {\n",
       "        text-align: right;\n",
       "    }\n",
       "</style>\n",
       "<table border=\"1\" class=\"dataframe\">\n",
       "  <thead>\n",
       "    <tr style=\"text-align: right;\">\n",
       "      <th></th>\n",
       "      <th>fecha</th>\n",
       "      <th>pais</th>\n",
       "      <th>operadora</th>\n",
       "      <th>ruta</th>\n",
       "      <th>tipo_aeronave</th>\n",
       "      <th>abordo</th>\n",
       "      <th>pasajeros</th>\n",
       "      <th>tripulantes</th>\n",
       "      <th>bajas</th>\n",
       "      <th>bajas_pasajeros</th>\n",
       "      <th>bajas_tripulacion</th>\n",
       "      <th>bajas_tierra</th>\n",
       "    </tr>\n",
       "  </thead>\n",
       "  <tbody>\n",
       "    <tr>\n",
       "      <th>0</th>\n",
       "      <td>1908-09-17</td>\n",
       "      <td>other</td>\n",
       "      <td>Military  US Army</td>\n",
       "      <td>Demonstration</td>\n",
       "      <td>Wright Brothers</td>\n",
       "      <td>2</td>\n",
       "      <td>1</td>\n",
       "      <td>1</td>\n",
       "      <td>1</td>\n",
       "      <td>1</td>\n",
       "      <td>0</td>\n",
       "      <td>0</td>\n",
       "    </tr>\n",
       "    <tr>\n",
       "      <th>1</th>\n",
       "      <td>1909-09-07</td>\n",
       "      <td>France</td>\n",
       "      <td>NaN</td>\n",
       "      <td>Air show</td>\n",
       "      <td>Wright Brothers</td>\n",
       "      <td>1</td>\n",
       "      <td>0</td>\n",
       "      <td>1</td>\n",
       "      <td>1</td>\n",
       "      <td>0</td>\n",
       "      <td>0</td>\n",
       "      <td>0</td>\n",
       "    </tr>\n",
       "    <tr>\n",
       "      <th>2</th>\n",
       "      <td>1912-07-12</td>\n",
       "      <td>other</td>\n",
       "      <td>Military  US Navy</td>\n",
       "      <td>Test flight</td>\n",
       "      <td>other</td>\n",
       "      <td>5</td>\n",
       "      <td>0</td>\n",
       "      <td>5</td>\n",
       "      <td>5</td>\n",
       "      <td>0</td>\n",
       "      <td>5</td>\n",
       "      <td>0</td>\n",
       "    </tr>\n",
       "    <tr>\n",
       "      <th>3</th>\n",
       "      <td>1913-08-06</td>\n",
       "      <td>Canada</td>\n",
       "      <td>Private</td>\n",
       "      <td>NaN</td>\n",
       "      <td>other</td>\n",
       "      <td>1</td>\n",
       "      <td>0</td>\n",
       "      <td>1</td>\n",
       "      <td>1</td>\n",
       "      <td>0</td>\n",
       "      <td>1</td>\n",
       "      <td>0</td>\n",
       "    </tr>\n",
       "    <tr>\n",
       "      <th>4</th>\n",
       "      <td>1913-09-09</td>\n",
       "      <td>other</td>\n",
       "      <td>Military  German Navy</td>\n",
       "      <td>NaN</td>\n",
       "      <td>other</td>\n",
       "      <td>20</td>\n",
       "      <td>0</td>\n",
       "      <td>0</td>\n",
       "      <td>14</td>\n",
       "      <td>0</td>\n",
       "      <td>0</td>\n",
       "      <td>0</td>\n",
       "    </tr>\n",
       "  </tbody>\n",
       "</table>\n",
       "</div>"
      ],
      "text/plain": [
       "       fecha    pais              operadora           ruta    tipo_aeronave  \\\n",
       "0 1908-09-17   other      Military  US Army  Demonstration  Wright Brothers   \n",
       "1 1909-09-07  France                    NaN       Air show  Wright Brothers   \n",
       "2 1912-07-12   other      Military  US Navy    Test flight            other   \n",
       "3 1913-08-06  Canada                Private            NaN            other   \n",
       "4 1913-09-09   other  Military  German Navy            NaN            other   \n",
       "\n",
       "   abordo  pasajeros  tripulantes  bajas  bajas_pasajeros  bajas_tripulacion  \\\n",
       "0       2          1            1      1                1                  0   \n",
       "1       1          0            1      1                0                  0   \n",
       "2       5          0            5      5                0                  5   \n",
       "3       1          0            1      1                0                  1   \n",
       "4      20          0            0     14                0                  0   \n",
       "\n",
       "   bajas_tierra  \n",
       "0             0  \n",
       "1             0  \n",
       "2             0  \n",
       "3             0  \n",
       "4             0  "
      ]
     },
     "execution_count": 6,
     "metadata": {},
     "output_type": "execute_result"
    }
   ],
   "source": [
    "aa.head()"
   ]
  },
  {
   "cell_type": "code",
   "execution_count": 7,
   "metadata": {},
   "outputs": [
    {
     "data": {
      "text/plain": [
       "0        2\n",
       "1        1\n",
       "2        5\n",
       "3        1\n",
       "4       20\n",
       "        ..\n",
       "4986     6\n",
       "4987    11\n",
       "4988    14\n",
       "4989    96\n",
       "4990    28\n",
       "Name: abordo, Length: 4991, dtype: int64"
      ]
     },
     "execution_count": 7,
     "metadata": {},
     "output_type": "execute_result"
    }
   ],
   "source": [
    "aa['abordo'].dropna()"
   ]
  },
  {
   "cell_type": "code",
   "execution_count": 8,
   "metadata": {},
   "outputs": [],
   "source": [
    "'''aa.to_csv('hame.csv',sep='|',encoding='utf-8',index=False)'''"
   ]
  },
  {
   "cell_type": "markdown",
   "metadata": {},
   "source": [
    "ahora si estamos listos para los graficos.\n"
   ]
  },
  {
   "cell_type": "code",
   "execution_count": 8,
   "metadata": {},
   "outputs": [],
   "source": [
    "# Tasa de Fatalidad de la Tripulación\n",
    "aa['tasa_fatalidad_tripulacion'] = round(aa['bajas_tripulacion'] / aa['abordo'], 2)\n",
    "\n",
    "# Tasa de Supervivencia de Pasajeros\n",
    "aa['tasa_supervivencia_pasajeros'] = round((aa['abordo'] - aa['bajas_pasajeros']) / aa['abordo'], 2)\n"
   ]
  },
  {
   "cell_type": "code",
   "execution_count": 9,
   "metadata": {},
   "outputs": [],
   "source": [
    "# para esto importamos matplotlib.\n",
    "# Filtrar datos por década anterior (por ejemplo, 2011-2020)\n",
    "decada_anterior = aa[(aa['fecha'] >= '2011-01-01') & (aa['fecha'] <= '2020-12-31')]\n",
    "\n",
    "# Filtrar datos por última década (por ejemplo, 2021-2030)\n",
    "ultima_decada = aa[(aa['fecha'] >= '2021-01-01') & (aa['fecha'] <= '2030-12-31')]\n",
    "\n",
    "# Calcular la tasa de fatalidad de la tripulación para ambas décadas\n",
    "tasa_fatalidad_anterior = decada_anterior['tasa_fatalidad_tripulacion'].mean()\n",
    "tasa_fatalidad_ultima = ultima_decada['tasa_fatalidad_tripulacion'].mean()\n"
   ]
  },
  {
   "cell_type": "code",
   "execution_count": 10,
   "metadata": {},
   "outputs": [],
   "source": [
    "disminucion_porcentaje = ((tasa_fatalidad_anterior - tasa_fatalidad_ultima) / tasa_fatalidad_anterior) * 100"
   ]
  },
  {
   "cell_type": "code",
   "execution_count": 11,
   "metadata": {},
   "outputs": [
    {
     "data": {
      "image/png": "[encoded data removed]",
      "text/plain": [
       "<Figure size 640x480 with 1 Axes>"
      ]
     },
     "metadata": {},
     "output_type": "display_data"
    }
   ],
   "source": [
    "#Crear un gráfico de barras para visualizar las tasas de fatalidad\n",
    "fig, ax = plt.subplots()\n",
    "decadas = ['Década Anterior', 'Última Década']\n",
    "tasas = [tasa_fatalidad_anterior, tasa_fatalidad_ultima]\n",
    "\n",
    "ax.bar(decadas, tasas, color=['grey', 'yellow'])\n",
    "ax.set_ylabel('Fatalidad Tripulantes')\n",
    "ax.set_title('2010-2020 vs 2020-2030')\n",
    "\n",
    "# Mostrar el porcentaje de disminución en el gráfico\n",
    "plt.text(0.5, 0.9, f'Disminución: {disminucion_porcentaje:.2f}%', ha='center', va='center', transform=ax.transAxes, fontsize=8)\n",
    "\n",
    "# Mostrar el gráfico\n",
    "plt.show()"
   ]
  },
  {
   "cell_type": "markdown",
   "metadata": {},
   "source": [
    "Tasa de mortalidad de tripulantes de las ultimas dos decadas:\n",
    "se puede observar una disminucion de '44.70% de lña tasa de mortalidad en comparacion a la decada anterior (si no tenemos en cuenta que vamos en  1/3 de la decada).\n",
    "esto me hace pensar en tres puntos.\n",
    "    1. la tasa de mortalidad para el 2030 va a ser superior a la de la dacada anterior (se puede prevenir este resultado)\n",
    "    2. es probable que haya temporadas entre las epocas con mas riesgo de accidentes(debido fenomenos naturales o demas causas externas), (esto podria prevenirse).\n",
    "    3. es cada dia mas peligroso trabajar en este sector?.\n",
    "\n"
   ]
  },
  {
   "cell_type": "code",
   "execution_count": 12,
   "metadata": {},
   "outputs": [
    {
     "data": {
      "image/png": "[encoded data removed]",
      "text/plain": [
       "<Figure size 800x600 with 1 Axes>"
      ]
     },
     "metadata": {},
     "output_type": "display_data"
    }
   ],
   "source": [
    "start_date = '1950-01-01'\n",
    "filtered_data = aa[aa['fecha'] >= start_date]\n",
    "\n",
    "# Calcular el promedio de muertes de pasajeros y tripulantes\n",
    "promedio_muertes_pasajeros = filtered_data['bajas_pasajeros'].mean()\n",
    "promedio_muertes_tripulantes = filtered_data['bajas_tripulacion'].mean()\n",
    "\n",
    "# Crear un gráfico de barras para comparar los promedios\n",
    "plt.figure(figsize=(8, 6))\n",
    "plt.bar(['Pasajeros', 'Tripulantes'], [promedio_muertes_pasajeros, promedio_muertes_tripulantes], color=['blue', 'green'])\n",
    "plt.title('Comparación del Promedio de Muertes de Pasajeros vs. Tripulantes (Después de 1950)')\n",
    "plt.ylabel('Promedio de Muertes')\n",
    "plt.show()"
   ]
  },
  {
   "cell_type": "code",
   "execution_count": 13,
   "metadata": {},
   "outputs": [
    {
     "data": {
      "image/png": "[encoded data removed]",
      "text/plain": [
       "<Figure size 800x600 with 1 Axes>"
      ]
     },
     "metadata": {},
     "output_type": "display_data"
    }
   ],
   "source": [
    "end_date = '1950-01-01'\n",
    "filtered_data = aa[aa['fecha'] < end_date]\n",
    "\n",
    "# Calcular el promedio de muertes de pasajeros y tripulantes\n",
    "promedio_muertes_pasajeros = filtered_data['bajas_pasajeros'].mean()\n",
    "promedio_muertes_tripulantes = filtered_data['bajas_tripulacion'].mean()\n",
    "\n",
    "# Crear un gráfico de barras para comparar los promedios\n",
    "plt.figure(figsize=(8, 6))\n",
    "plt.bar(['Pasajeros', 'Tripulantes'], [promedio_muertes_pasajeros, promedio_muertes_tripulantes], color=['blue', 'green'])\n",
    "plt.title('Comparación del Promedio de Muertes de Pasajeros vs. Tripulantes (Antes de 1950)')\n",
    "plt.ylabel('Promedio de Muertes')\n",
    "plt.show()"
   ]
  },
  {
   "cell_type": "markdown",
   "metadata": {},
   "source": [
    "quise hacer este par de graficos para fijarme en la diferencia en la tasa de fatalidad antes y despues de 1950.\n",
    "antes era mucho mas peligroso ser tripulante, aunque comparado con la historia ps se justifica debido a las muchas bajas muchas veces por cuestiones militares contra servicios de mensajeria."
   ]
  },
  {
   "cell_type": "code",
   "execution_count": 14,
   "metadata": {},
   "outputs": [
    {
     "data": {
      "text/html": [
       "<div>\n",
       "<style scoped>\n",
       "    .dataframe tbody tr th:only-of-type {\n",
       "        vertical-align: middle;\n",
       "    }\n",
       "\n",
       "    .dataframe tbody tr th {\n",
       "        vertical-align: top;\n",
       "    }\n",
       "\n",
       "    .dataframe thead th {\n",
       "        text-align: right;\n",
       "    }\n",
       "</style>\n",
       "<table border=\"1\" class=\"dataframe\">\n",
       "  <thead>\n",
       "    <tr style=\"text-align: right;\">\n",
       "      <th></th>\n",
       "      <th>fecha</th>\n",
       "      <th>pais</th>\n",
       "      <th>operadora</th>\n",
       "      <th>ruta</th>\n",
       "      <th>tipo_aeronave</th>\n",
       "      <th>abordo</th>\n",
       "      <th>pasajeros</th>\n",
       "      <th>tripulantes</th>\n",
       "      <th>bajas</th>\n",
       "      <th>bajas_pasajeros</th>\n",
       "      <th>bajas_tripulacion</th>\n",
       "      <th>bajas_tierra</th>\n",
       "      <th>tasa_fatalidad_tripulacion</th>\n",
       "      <th>tasa_supervivencia_pasajeros</th>\n",
       "    </tr>\n",
       "  </thead>\n",
       "  <tbody>\n",
       "    <tr>\n",
       "      <th>0</th>\n",
       "      <td>1908-09-17</td>\n",
       "      <td>other</td>\n",
       "      <td>Military  US Army</td>\n",
       "      <td>Demonstration</td>\n",
       "      <td>Wright Brothers</td>\n",
       "      <td>2</td>\n",
       "      <td>1</td>\n",
       "      <td>1</td>\n",
       "      <td>1</td>\n",
       "      <td>1</td>\n",
       "      <td>0</td>\n",
       "      <td>0</td>\n",
       "      <td>0.00</td>\n",
       "      <td>0.50</td>\n",
       "    </tr>\n",
       "    <tr>\n",
       "      <th>1</th>\n",
       "      <td>1909-09-07</td>\n",
       "      <td>France</td>\n",
       "      <td>NaN</td>\n",
       "      <td>Air show</td>\n",
       "      <td>Wright Brothers</td>\n",
       "      <td>1</td>\n",
       "      <td>0</td>\n",
       "      <td>1</td>\n",
       "      <td>1</td>\n",
       "      <td>0</td>\n",
       "      <td>0</td>\n",
       "      <td>0</td>\n",
       "      <td>0.00</td>\n",
       "      <td>1.00</td>\n",
       "    </tr>\n",
       "    <tr>\n",
       "      <th>2</th>\n",
       "      <td>1912-07-12</td>\n",
       "      <td>other</td>\n",
       "      <td>Military  US Navy</td>\n",
       "      <td>Test flight</td>\n",
       "      <td>other</td>\n",
       "      <td>5</td>\n",
       "      <td>0</td>\n",
       "      <td>5</td>\n",
       "      <td>5</td>\n",
       "      <td>0</td>\n",
       "      <td>5</td>\n",
       "      <td>0</td>\n",
       "      <td>1.00</td>\n",
       "      <td>1.00</td>\n",
       "    </tr>\n",
       "    <tr>\n",
       "      <th>3</th>\n",
       "      <td>1913-08-06</td>\n",
       "      <td>Canada</td>\n",
       "      <td>Private</td>\n",
       "      <td>NaN</td>\n",
       "      <td>other</td>\n",
       "      <td>1</td>\n",
       "      <td>0</td>\n",
       "      <td>1</td>\n",
       "      <td>1</td>\n",
       "      <td>0</td>\n",
       "      <td>1</td>\n",
       "      <td>0</td>\n",
       "      <td>1.00</td>\n",
       "      <td>1.00</td>\n",
       "    </tr>\n",
       "    <tr>\n",
       "      <th>4</th>\n",
       "      <td>1913-09-09</td>\n",
       "      <td>other</td>\n",
       "      <td>Military  German Navy</td>\n",
       "      <td>NaN</td>\n",
       "      <td>other</td>\n",
       "      <td>20</td>\n",
       "      <td>0</td>\n",
       "      <td>0</td>\n",
       "      <td>14</td>\n",
       "      <td>0</td>\n",
       "      <td>0</td>\n",
       "      <td>0</td>\n",
       "      <td>0.00</td>\n",
       "      <td>1.00</td>\n",
       "    </tr>\n",
       "    <tr>\n",
       "      <th>...</th>\n",
       "      <td>...</td>\n",
       "      <td>...</td>\n",
       "      <td>...</td>\n",
       "      <td>...</td>\n",
       "      <td>...</td>\n",
       "      <td>...</td>\n",
       "      <td>...</td>\n",
       "      <td>...</td>\n",
       "      <td>...</td>\n",
       "      <td>...</td>\n",
       "      <td>...</td>\n",
       "      <td>...</td>\n",
       "      <td>...</td>\n",
       "      <td>...</td>\n",
       "    </tr>\n",
       "    <tr>\n",
       "      <th>4986</th>\n",
       "      <td>2021-03-28</td>\n",
       "      <td>other</td>\n",
       "      <td>Soloy Helicopters</td>\n",
       "      <td>Sightseeing Charter</td>\n",
       "      <td>other</td>\n",
       "      <td>6</td>\n",
       "      <td>5</td>\n",
       "      <td>1</td>\n",
       "      <td>5</td>\n",
       "      <td>4</td>\n",
       "      <td>1</td>\n",
       "      <td>0</td>\n",
       "      <td>0.17</td>\n",
       "      <td>0.33</td>\n",
       "    </tr>\n",
       "    <tr>\n",
       "      <th>4987</th>\n",
       "      <td>2021-05-21</td>\n",
       "      <td>Nigeria</td>\n",
       "      <td>Military  Nigerian Air Force</td>\n",
       "      <td>NaN</td>\n",
       "      <td>Beechcraft</td>\n",
       "      <td>11</td>\n",
       "      <td>7</td>\n",
       "      <td>4</td>\n",
       "      <td>11</td>\n",
       "      <td>7</td>\n",
       "      <td>4</td>\n",
       "      <td>0</td>\n",
       "      <td>0.36</td>\n",
       "      <td>0.36</td>\n",
       "    </tr>\n",
       "    <tr>\n",
       "      <th>4988</th>\n",
       "      <td>2021-06-10</td>\n",
       "      <td>Myanmar</td>\n",
       "      <td>Military  Myanmar Air Force</td>\n",
       "      <td>Naypyidaw  Anisakan</td>\n",
       "      <td>Beechcraft</td>\n",
       "      <td>14</td>\n",
       "      <td>12</td>\n",
       "      <td>2</td>\n",
       "      <td>12</td>\n",
       "      <td>11</td>\n",
       "      <td>1</td>\n",
       "      <td>0</td>\n",
       "      <td>0.07</td>\n",
       "      <td>0.21</td>\n",
       "    </tr>\n",
       "    <tr>\n",
       "      <th>4989</th>\n",
       "      <td>2021-07-04</td>\n",
       "      <td>Philippines</td>\n",
       "      <td>Military  Philippine Air Force</td>\n",
       "      <td>Cagayan de OroLumbia  Jolo</td>\n",
       "      <td>Lockheed Martin</td>\n",
       "      <td>96</td>\n",
       "      <td>88</td>\n",
       "      <td>8</td>\n",
       "      <td>50</td>\n",
       "      <td>0</td>\n",
       "      <td>0</td>\n",
       "      <td>3</td>\n",
       "      <td>0.00</td>\n",
       "      <td>1.00</td>\n",
       "    </tr>\n",
       "    <tr>\n",
       "      <th>4990</th>\n",
       "      <td>2021-07-06</td>\n",
       "      <td>Russia</td>\n",
       "      <td>Kamchatka Aviation Enterprise</td>\n",
       "      <td>Petropavlovsk  Palana</td>\n",
       "      <td>Antonov</td>\n",
       "      <td>28</td>\n",
       "      <td>22</td>\n",
       "      <td>6</td>\n",
       "      <td>28</td>\n",
       "      <td>22</td>\n",
       "      <td>6</td>\n",
       "      <td>0</td>\n",
       "      <td>0.21</td>\n",
       "      <td>0.21</td>\n",
       "    </tr>\n",
       "  </tbody>\n",
       "</table>\n",
       "<p>4991 rows × 14 columns</p>\n",
       "</div>"
      ],
      "text/plain": [
       "          fecha         pais                       operadora  \\\n",
       "0    1908-09-17        other               Military  US Army   \n",
       "1    1909-09-07       France                             NaN   \n",
       "2    1912-07-12        other               Military  US Navy   \n",
       "3    1913-08-06       Canada                         Private   \n",
       "4    1913-09-09        other           Military  German Navy   \n",
       "...         ...          ...                             ...   \n",
       "4986 2021-03-28        other               Soloy Helicopters   \n",
       "4987 2021-05-21      Nigeria    Military  Nigerian Air Force   \n",
       "4988 2021-06-10      Myanmar     Military  Myanmar Air Force   \n",
       "4989 2021-07-04  Philippines  Military  Philippine Air Force   \n",
       "4990 2021-07-06       Russia   Kamchatka Aviation Enterprise   \n",
       "\n",
       "                            ruta    tipo_aeronave  abordo  pasajeros  \\\n",
       "0                  Demonstration  Wright Brothers       2          1   \n",
       "1                       Air show  Wright Brothers       1          0   \n",
       "2                    Test flight            other       5          0   \n",
       "3                            NaN            other       1          0   \n",
       "4                            NaN            other      20          0   \n",
       "...                          ...              ...     ...        ...   \n",
       "4986         Sightseeing Charter            other       6          5   \n",
       "4987                         NaN       Beechcraft      11          7   \n",
       "4988         Naypyidaw  Anisakan       Beechcraft      14         12   \n",
       "4989  Cagayan de OroLumbia  Jolo  Lockheed Martin      96         88   \n",
       "4990       Petropavlovsk  Palana          Antonov      28         22   \n",
       "\n",
       "      tripulantes  bajas  bajas_pasajeros  bajas_tripulacion  bajas_tierra  \\\n",
       "0               1      1                1                  0             0   \n",
       "1               1      1                0                  0             0   \n",
       "2               5      5                0                  5             0   \n",
       "3               1      1                0                  1             0   \n",
       "4               0     14                0                  0             0   \n",
       "...           ...    ...              ...                ...           ...   \n",
       "4986            1      5                4                  1             0   \n",
       "4987            4     11                7                  4             0   \n",
       "4988            2     12               11                  1             0   \n",
       "4989            8     50                0                  0             3   \n",
       "4990            6     28               22                  6             0   \n",
       "\n",
       "      tasa_fatalidad_tripulacion  tasa_supervivencia_pasajeros  \n",
       "0                           0.00                          0.50  \n",
       "1                           0.00                          1.00  \n",
       "2                           1.00                          1.00  \n",
       "3                           1.00                          1.00  \n",
       "4                           0.00                          1.00  \n",
       "...                          ...                           ...  \n",
       "4986                        0.17                          0.33  \n",
       "4987                        0.36                          0.36  \n",
       "4988                        0.07                          0.21  \n",
       "4989                        0.00                          1.00  \n",
       "4990                        0.21                          0.21  \n",
       "\n",
       "[4991 rows x 14 columns]"
      ]
     },
     "execution_count": 14,
     "metadata": {},
     "output_type": "execute_result"
    }
   ],
   "source": [
    "aa\n",
    "\n"
   ]
  },
  {
   "cell_type": "code",
   "execution_count": 15,
   "metadata": {},
   "outputs": [
    {
     "name": "stdout",
     "output_type": "stream",
     "text": [
      "<class 'pandas.core.frame.DataFrame'>\n",
      "RangeIndex: 4991 entries, 0 to 4990\n",
      "Data columns (total 14 columns):\n",
      " #   Column                        Non-Null Count  Dtype         \n",
      "---  ------                        --------------  -----         \n",
      " 0   fecha                         4991 non-null   datetime64[ns]\n",
      " 1   pais                          4991 non-null   object        \n",
      " 2   operadora                     4981 non-null   object        \n",
      " 3   ruta                          4242 non-null   object        \n",
      " 4   tipo_aeronave                 4991 non-null   object        \n",
      " 5   abordo                        4991 non-null   int64         \n",
      " 6   pasajeros                     4991 non-null   int64         \n",
      " 7   tripulantes                   4991 non-null   int64         \n",
      " 8   bajas                         4991 non-null   int64         \n",
      " 9   bajas_pasajeros               4991 non-null   int64         \n",
      " 10  bajas_tripulacion             4991 non-null   int64         \n",
      " 11  bajas_tierra                  4991 non-null   int64         \n",
      " 12  tasa_fatalidad_tripulacion    4988 non-null   float64       \n",
      " 13  tasa_supervivencia_pasajeros  4987 non-null   float64       \n",
      "dtypes: datetime64[ns](1), float64(2), int64(7), object(4)\n",
      "memory usage: 546.0+ KB\n"
     ]
    }
   ],
   "source": [
    "aa.info()"
   ]
  },
  {
   "cell_type": "code",
   "execution_count": null,
   "metadata": {},
   "outputs": [],
   "source": []
  }
 ],
 "metadata": {
  "kernelspec": {
   "display_name": "Python 3",
   "language": "python",
   "name": "python3"
  },
  "language_info": {
   "codemirror_mode": {
    "name": "ipython",
    "version": 3
   },
   "file_extension": ".py",
   "mimetype": "text/x-python",
   "name": "python",
   "nbconvert_exporter": "python",
   "pygments_lexer": "ipython3",
   "version": "3.10.12"
  }
 },
 "nbformat": 4,
 "nbformat_minor": 2
}
