{
 "cells": [
  {
   "cell_type": "code",
   "execution_count": 10,
   "metadata": {},
   "outputs": [],
   "source": [
    "import pandas as pd\n",
    "aa= pd.read_csv(\"avis.csv\",sep='|',encoding='utf-8')"
   ]
  },
  {
   "cell_type": "code",
   "execution_count": 11,
   "metadata": {},
   "outputs": [
    {
     "data": {
      "text/plain": [
       "(4991, 12)"
      ]
     },
     "execution_count": 11,
     "metadata": {},
     "output_type": "execute_result"
    }
   ],
   "source": [
    "#describamos nuestros datos.\n",
    "aa.shape"
   ]
  },
  {
   "cell_type": "markdown",
   "metadata": {},
   "source": [
    "para este analisis he seleccionado las siguientes columnas:\n",
    "\n",
    "    pais -ubicacion\n",
    "\n",
    "    operadora-aerolinea o empresa a cargo de la aeronave\n",
    "\n",
    "    abordo - total de personas a bordo\n",
    "\n",
    "    pasajeros - total pasajeros en el vuelo\n",
    "\n",
    "    tripulantes - total tripulantes\n",
    "\n",
    "    bajas - total bajas en el vuelo\n",
    "\n",
    "    bajas pasajeros - total bajas de pasajeros unicamente\n",
    "\n",
    "    bajas tripulantes - total bajas de tripulantes unicamente\n",
    "\n",
    "    bajas tierra - bajas ocasionadas en tierra\n",
    "\n",
    "    descripcion -un breve mensaje testificado del accidente\n",
    "\n",
    "    año - año del suceso\n",
    "\n",
    "    mes - mes correspondiente al año del suceso.\n",
    "\n",
    "    "
   ]
  },
  {
   "cell_type": "code",
   "execution_count": 12,
   "metadata": {},
   "outputs": [
    {
     "name": "stdout",
     "output_type": "stream",
     "text": [
      "<class 'pandas.core.frame.DataFrame'>\n",
      "RangeIndex: 4991 entries, 0 to 4990\n",
      "Data columns (total 12 columns):\n",
      " #   Column             Non-Null Count  Dtype  \n",
      "---  ------             --------------  -----  \n",
      " 0   pais               4991 non-null   object \n",
      " 1   operadora          4981 non-null   object \n",
      " 2   abordo             4991 non-null   int64  \n",
      " 3   pasajeros          4787 non-null   float64\n",
      " 4   tripulantes        4789 non-null   float64\n",
      " 5   bajas              4991 non-null   int64  \n",
      " 6   bajas_pasajeros    4770 non-null   float64\n",
      " 7   bajas_tripulacion  4771 non-null   float64\n",
      " 8   bajas_tierra       4959 non-null   float64\n",
      " 9   Descripcion        4940 non-null   object \n",
      " 10  año                4991 non-null   int64  \n",
      " 11  mes                4991 non-null   int64  \n",
      "dtypes: float64(5), int64(4), object(3)\n",
      "memory usage: 468.0+ KB\n"
     ]
    }
   ],
   "source": [
    "aa.info()"
   ]
  },
  {
   "cell_type": "code",
   "execution_count": 13,
   "metadata": {},
   "outputs": [
    {
     "data": {
      "text/plain": [
       "array(['other', 'France', 'Canada', 'Germany', 'Belgium', 'England',\n",
       "       'Denmark', 'Italy', 'India', 'Spain', 'Australia', 'China',\n",
       "       'Morocco', 'United Kingdom', 'Oman', 'Russia', 'Colombia',\n",
       "       'United States', 'Hungary', 'Mauritania', 'Slovakia', 'Algeria',\n",
       "       'Finland', 'Uruguay', 'Brazil', 'Netherlands', 'Greece', 'Mexico',\n",
       "       'Cuba', 'Iran', 'Madagascar', 'Argentina', 'New Zealand',\n",
       "       'Bulgaria', 'South Africa', 'Thailand', 'Iraq', 'Chile', 'Lebanon',\n",
       "       'Bolivia', 'Ukraine', 'Peru', 'Syria', 'Pakistan', 'Egypt',\n",
       "       'Honduras', 'Switzerland', 'Panama', 'Poland', 'Sweden', 'Norway',\n",
       "       'Croatia', 'Tajikistan', 'Libya', 'Gambia', 'Guinea', 'Sudan',\n",
       "       'Samoa', 'Tanzania', 'Kenya', 'Japan', 'Mozambique', 'Ecuador',\n",
       "       'Malta', 'Indonesia', 'Scotland', 'Estonia', 'Puerto Rico',\n",
       "       'Turkmenistan', 'Kazakhstan', 'Austria', 'Portugal', 'Guyana',\n",
       "       'Ireland', 'Nicaragua', 'Ivory Coast', 'Philippines', 'Bahamas',\n",
       "       'Liberia', 'Nigeria', 'Costa Rica', 'Sri Lanka', 'Venezuela',\n",
       "       'Senegal', 'Iceland', 'Cameroon', 'Bahrain', 'Dominica', 'Congo',\n",
       "       'Azerbaijan', 'Taiwan', 'Vietnam', 'Turkey', 'South Korea',\n",
       "       'Angola', 'Malaysia', 'Marshall Islands', 'Bhutan', 'Mali',\n",
       "       'Guatemala', 'Chad', 'Jamaica', 'North Korea',\n",
       "       'United Arab Emirates', 'Afghanistan', 'Czech Republic',\n",
       "       'Singapore', 'Laos', 'Slovenia', 'Zimbabwe', 'Paraguay', 'Nepal',\n",
       "       'Myanmar', 'Jordan', 'Saudi Arabia', 'Central African Republic',\n",
       "       'Kuwait', 'Suriname', 'USSR', 'Ethiopia', 'Zambia', 'Uzbekistan',\n",
       "       'Haiti', 'Yemen', 'Cyprus', 'Latvia', 'Namibia', 'Ghana',\n",
       "       'Kyrgyzstan', 'Bangladesh', 'Cambodia', 'Vanuatu', 'Botswana',\n",
       "       'Equatorial Guinea', 'Uganda', 'Barbados', 'Niger',\n",
       "       'Solomon Islands', 'Qatar', 'Fiji', 'Armenia', 'Saint Lucia',\n",
       "       'Brunei', 'Djibouti', 'Belarus', 'Gabon', 'Luxembourg',\n",
       "       'El Salvador', 'Malawi', 'Rwanda', 'Lesotho', 'Albania',\n",
       "       'Mongolia', 'Tonga', 'Comoros', 'Israel', 'Eritrea', 'Tunisia',\n",
       "       'Benin', 'Sierra Leone', 'Moldova', 'Papua', 'South Sudan',\n",
       "       'Micronesia'], dtype=object)"
      ]
     },
     "execution_count": 13,
     "metadata": {},
     "output_type": "execute_result"
    }
   ],
   "source": [
    "aa['pais'].unique()"
   ]
  },
  {
   "cell_type": "code",
   "execution_count": 14,
   "metadata": {},
   "outputs": [
    {
     "data": {
      "text/plain": [
       "164"
      ]
     },
     "execution_count": 14,
     "metadata": {},
     "output_type": "execute_result"
    }
   ],
   "source": [
    "aa['pais'].nunique()"
   ]
  },
  {
   "cell_type": "code",
   "execution_count": 15,
   "metadata": {},
   "outputs": [
    {
     "data": {
      "text/plain": [
       "array(['Military  US Army', nan, 'Military  US Navy', ...,\n",
       "       'South Sudan Supreme Airlines', 'Soloy Helicopters',\n",
       "       'Kamchatka Aviation Enterprise'], dtype=object)"
      ]
     },
     "execution_count": 15,
     "metadata": {},
     "output_type": "execute_result"
    }
   ],
   "source": [
    "aa['operadora'].unique()"
   ]
  },
  {
   "cell_type": "code",
   "execution_count": 16,
   "metadata": {},
   "outputs": [
    {
     "data": {
      "text/plain": [
       "164"
      ]
     },
     "execution_count": 16,
     "metadata": {},
     "output_type": "execute_result"
    }
   ],
   "source": [
    "aa['pais'].nunique()"
   ]
  },
  {
   "cell_type": "markdown",
   "metadata": {},
   "source": [
    "tipifico las columnas numericas."
   ]
  },
  {
   "cell_type": "code",
   "execution_count": 17,
   "metadata": {},
   "outputs": [],
   "source": [
    "aa['pasajeros'] = aa['tripulantes'].fillna(0).astype(int)\n",
    "aa['bajas_pasajeros'] = aa['bajas_pasajeros'].fillna(0).astype(int)\n",
    "aa['bajas_tripulacion'] = aa['bajas_tripulacion'].fillna(0).astype(int)\n",
    "aa['bajas_tierra'] = aa['bajas_tierra'].fillna(0).astype(int)"
   ]
  },
  {
   "cell_type": "code",
   "execution_count": 18,
   "metadata": {},
   "outputs": [
    {
     "name": "stdout",
     "output_type": "stream",
     "text": [
      "<class 'pandas.core.frame.DataFrame'>\n",
      "RangeIndex: 4991 entries, 0 to 4990\n",
      "Data columns (total 12 columns):\n",
      " #   Column             Non-Null Count  Dtype  \n",
      "---  ------             --------------  -----  \n",
      " 0   pais               4991 non-null   object \n",
      " 1   operadora          4981 non-null   object \n",
      " 2   abordo             4991 non-null   int64  \n",
      " 3   pasajeros          4991 non-null   int64  \n",
      " 4   tripulantes        4789 non-null   float64\n",
      " 5   bajas              4991 non-null   int64  \n",
      " 6   bajas_pasajeros    4991 non-null   int64  \n",
      " 7   bajas_tripulacion  4991 non-null   int64  \n",
      " 8   bajas_tierra       4991 non-null   int64  \n",
      " 9   Descripcion        4940 non-null   object \n",
      " 10  año                4991 non-null   int64  \n",
      " 11  mes                4991 non-null   int64  \n",
      "dtypes: float64(1), int64(8), object(3)\n",
      "memory usage: 468.0+ KB\n"
     ]
    }
   ],
   "source": [
    "aa.info()"
   ]
  },
  {
   "cell_type": "code",
   "execution_count": 28,
   "metadata": {},
   "outputs": [
    {
     "name": "stdout",
     "output_type": "stream",
     "text": [
      "['Military  US Army' nan 'Military  US Navy' ...\n",
      " 'South Sudan Supreme Airlines' 'Soloy Helicopters'\n",
      " 'Kamchatka Aviation Enterprise']\n"
     ]
    }
   ],
   "source": []
  }
 ],
 "metadata": {
  "kernelspec": {
   "display_name": "Python 3",
   "language": "python",
   "name": "python3"
  },
  "language_info": {
   "codemirror_mode": {
    "name": "ipython",
    "version": 3
   },
   "file_extension": ".py",
   "mimetype": "text/x-python",
   "name": "python",
   "nbconvert_exporter": "python",
   "pygments_lexer": "ipython3",
   "version": "3.10.12"
  }
 },
 "nbformat": 4,
 "nbformat_minor": 2
}
