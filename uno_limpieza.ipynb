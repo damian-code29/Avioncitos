{
 "cells": [
  {
   "cell_type": "markdown",
   "metadata": {},
   "source": [
    "-limpieza"
   ]
  },
  {
   "cell_type": "code",
   "execution_count": 38,
   "metadata": {},
   "outputs": [],
   "source": [
    "#importacion de las s librerias que usaremos en este caso.\n",
    "import pandas as pd\n",
    "import numpy as np\n",
    "import warnings\n",
    "from datetime import datetime\n",
    "import re\n",
    "\n",
    "import matplotlib.pyplot as plt\n",
    "from wordcloud import WordCloud\n"
   ]
  },
  {
   "cell_type": "markdown",
   "metadata": {},
   "source": [
    "-importacion de los datos.\n",
    "    -importamos en el datafraeme'aa' referencia a 'accidentes aereos'"
   ]
  },
  {
   "cell_type": "code",
   "execution_count": 39,
   "metadata": {},
   "outputs": [
    {
     "data": {
      "text/html": [
       "<div>\n",
       "<style scoped>\n",
       "    .dataframe tbody tr th:only-of-type {\n",
       "        vertical-align: middle;\n",
       "    }\n",
       "\n",
       "    .dataframe tbody tr th {\n",
       "        vertical-align: top;\n",
       "    }\n",
       "\n",
       "    .dataframe thead th {\n",
       "        text-align: right;\n",
       "    }\n",
       "</style>\n",
       "<table border=\"1\" class=\"dataframe\">\n",
       "  <thead>\n",
       "    <tr style=\"text-align: right;\">\n",
       "      <th></th>\n",
       "      <th>Unnamed: 0</th>\n",
       "      <th>fecha</th>\n",
       "      <th>HORA declarada</th>\n",
       "      <th>Ruta</th>\n",
       "      <th>OperadOR</th>\n",
       "      <th>flight_no</th>\n",
       "      <th>route</th>\n",
       "      <th>ac_type</th>\n",
       "      <th>registration</th>\n",
       "      <th>cn_ln</th>\n",
       "      <th>all_aboard</th>\n",
       "      <th>PASAJEROS A BORDO</th>\n",
       "      <th>crew_aboard</th>\n",
       "      <th>cantidad de fallecidos</th>\n",
       "      <th>passenger_fatalities</th>\n",
       "      <th>crew_fatalities</th>\n",
       "      <th>ground</th>\n",
       "      <th>summary</th>\n",
       "    </tr>\n",
       "  </thead>\n",
       "  <tbody>\n",
       "    <tr>\n",
       "      <th>0</th>\n",
       "      <td>0</td>\n",
       "      <td>September 17, 1908</td>\n",
       "      <td>1718</td>\n",
       "      <td>Fort Myer, Virginia</td>\n",
       "      <td>Military - U.S. Army</td>\n",
       "      <td>?</td>\n",
       "      <td>Demonstration</td>\n",
       "      <td>Wright Flyer III</td>\n",
       "      <td>?</td>\n",
       "      <td>1</td>\n",
       "      <td>2</td>\n",
       "      <td>1</td>\n",
       "      <td>1</td>\n",
       "      <td>1</td>\n",
       "      <td>1</td>\n",
       "      <td>0</td>\n",
       "      <td>0</td>\n",
       "      <td>During a demonstration flight, a U.S. Army fly...</td>\n",
       "    </tr>\n",
       "    <tr>\n",
       "      <th>1</th>\n",
       "      <td>1</td>\n",
       "      <td>September 07, 1909</td>\n",
       "      <td>?</td>\n",
       "      <td>Juvisy-sur-Orge, France</td>\n",
       "      <td>?</td>\n",
       "      <td>?</td>\n",
       "      <td>Air show</td>\n",
       "      <td>Wright Byplane</td>\n",
       "      <td>SC1</td>\n",
       "      <td>?</td>\n",
       "      <td>1</td>\n",
       "      <td>0</td>\n",
       "      <td>1</td>\n",
       "      <td>1</td>\n",
       "      <td>0</td>\n",
       "      <td>0</td>\n",
       "      <td>0</td>\n",
       "      <td>Eugene Lefebvre was the first pilot to ever be...</td>\n",
       "    </tr>\n",
       "    <tr>\n",
       "      <th>2</th>\n",
       "      <td>2</td>\n",
       "      <td>July 12, 1912</td>\n",
       "      <td>0630</td>\n",
       "      <td>Atlantic City, New Jersey</td>\n",
       "      <td>Military - U.S. Navy</td>\n",
       "      <td>?</td>\n",
       "      <td>Test flight</td>\n",
       "      <td>Dirigible</td>\n",
       "      <td>?</td>\n",
       "      <td>?</td>\n",
       "      <td>5</td>\n",
       "      <td>0</td>\n",
       "      <td>5</td>\n",
       "      <td>5</td>\n",
       "      <td>0</td>\n",
       "      <td>5</td>\n",
       "      <td>0</td>\n",
       "      <td>First U.S. dirigible Akron exploded just offsh...</td>\n",
       "    </tr>\n",
       "    <tr>\n",
       "      <th>3</th>\n",
       "      <td>3</td>\n",
       "      <td>August 06, 1913</td>\n",
       "      <td>?</td>\n",
       "      <td>Victoria, British Columbia, Canada</td>\n",
       "      <td>Private</td>\n",
       "      <td>?</td>\n",
       "      <td>?</td>\n",
       "      <td>Curtiss seaplane</td>\n",
       "      <td>?</td>\n",
       "      <td>?</td>\n",
       "      <td>1</td>\n",
       "      <td>0</td>\n",
       "      <td>1</td>\n",
       "      <td>1</td>\n",
       "      <td>0</td>\n",
       "      <td>1</td>\n",
       "      <td>0</td>\n",
       "      <td>The first fatal airplane accident in Canada oc...</td>\n",
       "    </tr>\n",
       "    <tr>\n",
       "      <th>4</th>\n",
       "      <td>4</td>\n",
       "      <td>September 09, 1913</td>\n",
       "      <td>1830</td>\n",
       "      <td>Over the North Sea</td>\n",
       "      <td>Military - German Navy</td>\n",
       "      <td>?</td>\n",
       "      <td>?</td>\n",
       "      <td>Zeppelin L-1 (airship)</td>\n",
       "      <td>?</td>\n",
       "      <td>?</td>\n",
       "      <td>20</td>\n",
       "      <td>?</td>\n",
       "      <td>?</td>\n",
       "      <td>14</td>\n",
       "      <td>?</td>\n",
       "      <td>?</td>\n",
       "      <td>0</td>\n",
       "      <td>The airship flew into a thunderstorm and encou...</td>\n",
       "    </tr>\n",
       "  </tbody>\n",
       "</table>\n",
       "</div>"
      ],
      "text/plain": [
       "   Unnamed: 0               fecha HORA declarada  \\\n",
       "0           0  September 17, 1908           1718   \n",
       "1           1  September 07, 1909              ?   \n",
       "2           2       July 12, 1912           0630   \n",
       "3           3     August 06, 1913              ?   \n",
       "4           4  September 09, 1913           1830   \n",
       "\n",
       "                                 Ruta                OperadOR flight_no  \\\n",
       "0                 Fort Myer, Virginia    Military - U.S. Army         ?   \n",
       "1             Juvisy-sur-Orge, France                       ?         ?   \n",
       "2           Atlantic City, New Jersey    Military - U.S. Navy         ?   \n",
       "3  Victoria, British Columbia, Canada                 Private         ?   \n",
       "4                  Over the North Sea  Military - German Navy         ?   \n",
       "\n",
       "           route                 ac_type registration cn_ln all_aboard  \\\n",
       "0  Demonstration        Wright Flyer III            ?     1          2   \n",
       "1       Air show          Wright Byplane          SC1     ?          1   \n",
       "2    Test flight               Dirigible            ?     ?          5   \n",
       "3              ?        Curtiss seaplane            ?     ?          1   \n",
       "4              ?  Zeppelin L-1 (airship)            ?     ?         20   \n",
       "\n",
       "  PASAJEROS A BORDO crew_aboard cantidad de fallecidos passenger_fatalities  \\\n",
       "0                 1           1                      1                    1   \n",
       "1                 0           1                      1                    0   \n",
       "2                 0           5                      5                    0   \n",
       "3                 0           1                      1                    0   \n",
       "4                 ?           ?                     14                    ?   \n",
       "\n",
       "  crew_fatalities ground                                            summary  \n",
       "0               0      0  During a demonstration flight, a U.S. Army fly...  \n",
       "1               0      0  Eugene Lefebvre was the first pilot to ever be...  \n",
       "2               5      0  First U.S. dirigible Akron exploded just offsh...  \n",
       "3               1      0  The first fatal airplane accident in Canada oc...  \n",
       "4               ?      0  The airship flew into a thunderstorm and encou...  "
      ]
     },
     "execution_count": 39,
     "metadata": {},
     "output_type": "execute_result"
    }
   ],
   "source": [
    "\n",
    "aa= pd.read_csv('AccidentesAviones.csv',encoding='utf-8')\n",
    "#en alguno intentos de importacion sin usar 'utf-8' se mesclan algunas columnas.\n",
    "aa.head()\n"
   ]
  },
  {
   "cell_type": "markdown",
   "metadata": {},
   "source": []
  },
  {
   "cell_type": "code",
   "execution_count": 40,
   "metadata": {},
   "outputs": [
    {
     "data": {
      "text/plain": [
       "(5008, 18)"
      ]
     },
     "execution_count": 40,
     "metadata": {},
     "output_type": "execute_result"
    }
   ],
   "source": [
    "# numero de columnas y filas.\n",
    "aa.shape\n"
   ]
  },
  {
   "cell_type": "code",
   "execution_count": 41,
   "metadata": {},
   "outputs": [
    {
     "name": "stdout",
     "output_type": "stream",
     "text": [
      "<class 'pandas.core.frame.DataFrame'>\n",
      "RangeIndex: 5008 entries, 0 to 5007\n",
      "Data columns (total 18 columns):\n",
      " #   Column                  Non-Null Count  Dtype \n",
      "---  ------                  --------------  ----- \n",
      " 0   Unnamed: 0              5008 non-null   int64 \n",
      " 1   fecha                   5008 non-null   object\n",
      " 2   HORA declarada          5008 non-null   object\n",
      " 3   Ruta                    5008 non-null   object\n",
      " 4   OperadOR                5008 non-null   object\n",
      " 5   flight_no               5008 non-null   object\n",
      " 6   route                   5007 non-null   object\n",
      " 7   ac_type                 5008 non-null   object\n",
      " 8   registration            5008 non-null   object\n",
      " 9   cn_ln                   5008 non-null   object\n",
      " 10  all_aboard              5008 non-null   object\n",
      " 11  PASAJEROS A BORDO       5008 non-null   object\n",
      " 12  crew_aboard             5008 non-null   object\n",
      " 13  cantidad de fallecidos  5008 non-null   object\n",
      " 14  passenger_fatalities    5008 non-null   object\n",
      " 15  crew_fatalities         5008 non-null   object\n",
      " 16  ground                  5008 non-null   object\n",
      " 17  summary                 5008 non-null   object\n",
      "dtypes: int64(1), object(17)\n",
      "memory usage: 704.4+ KB\n"
     ]
    }
   ],
   "source": [
    "#revisemos el archivo para reconocer sus columnas y comprender que informacion nos brinda.\n",
    "aa.info()"
   ]
  },
  {
   "cell_type": "markdown",
   "metadata": {},
   "source": [
    "-Dicionario de datos en tabla:\n",
    "\n",
    "    -unnamed - index antiguo de la lista\n",
    "\n",
    "    -fecha - fecha del accidente.\n",
    "\n",
    "    -hora_declarada- hora local formato 24h hh:mm.\n",
    "\n",
    "    -ruta - locacion del accidente.\n",
    "\n",
    "    -operador - aerolinea en operacion de la aeronave.\n",
    "\n",
    "    -numero de vuelo - nuemero de vuelo asignado a esta aeronave.\n",
    "\n",
    "    -ruta_vuelo- ruta que cumplia la aeronave.\n",
    "\n",
    "    -tipo - tipo de aeronave.\n",
    "\n",
    "    -icao registro - registro icao de la aeronave.\n",
    "\n",
    "    -cn_ln -serie de la aeronave .\n",
    "\n",
    "    -all board- total personas en el vuelo.\n",
    "\n",
    "    -pasajeros a bordo- pasajeros a bordo.\n",
    "\n",
    "    -crew aboard -tripulantes a bordo.\n",
    "\n",
    "    -total fatalities -total de vidas perdidas.\n",
    "\n",
    "    -passenger fatalities - pasajeros fallecidos.\n",
    "\n",
    "    -crew fatalities - tripulantes fallecidos.\n",
    "\n",
    "    -ground - total de muertos en tierra\n",
    "\n",
    "    -summary - breve descripcion del accidente y s.u posible causa.\n",
    "\n",
    "todas las columnas estan en dtype object. lo que quiere decir que son texto o son interpretadas asi.\n",
    "    \n",
    "\n",
    "    "
   ]
  },
  {
   "cell_type": "code",
   "execution_count": 42,
   "metadata": {},
   "outputs": [
    {
     "data": {
      "text/html": [
       "<div>\n",
       "<style scoped>\n",
       "    .dataframe tbody tr th:only-of-type {\n",
       "        vertical-align: middle;\n",
       "    }\n",
       "\n",
       "    .dataframe tbody tr th {\n",
       "        vertical-align: top;\n",
       "    }\n",
       "\n",
       "    .dataframe thead th {\n",
       "        text-align: right;\n",
       "    }\n",
       "</style>\n",
       "<table border=\"1\" class=\"dataframe\">\n",
       "  <thead>\n",
       "    <tr style=\"text-align: right;\">\n",
       "      <th></th>\n",
       "      <th>Unnamed: 0</th>\n",
       "      <th>fecha</th>\n",
       "      <th>hora</th>\n",
       "      <th>pais</th>\n",
       "      <th>operadora</th>\n",
       "      <th>vuelo_numero</th>\n",
       "      <th>ruta</th>\n",
       "      <th>tipo_aeronave</th>\n",
       "      <th>registro_aeronave</th>\n",
       "      <th>registro_fuselaje</th>\n",
       "      <th>abordo</th>\n",
       "      <th>pasajeros</th>\n",
       "      <th>tripulantes</th>\n",
       "      <th>bajas</th>\n",
       "      <th>bajas_pasajeros</th>\n",
       "      <th>bajas_tripulacion</th>\n",
       "      <th>bajas_tierra</th>\n",
       "      <th>Descripcion</th>\n",
       "    </tr>\n",
       "  </thead>\n",
       "  <tbody>\n",
       "    <tr>\n",
       "      <th>0</th>\n",
       "      <td>0</td>\n",
       "      <td>September 17, 1908</td>\n",
       "      <td>1718</td>\n",
       "      <td>Fort Myer, Virginia</td>\n",
       "      <td>Military - U.S. Army</td>\n",
       "      <td>?</td>\n",
       "      <td>Demonstration</td>\n",
       "      <td>Wright Flyer III</td>\n",
       "      <td>?</td>\n",
       "      <td>1</td>\n",
       "      <td>2</td>\n",
       "      <td>1</td>\n",
       "      <td>1</td>\n",
       "      <td>1</td>\n",
       "      <td>1</td>\n",
       "      <td>0</td>\n",
       "      <td>0</td>\n",
       "      <td>During a demonstration flight, a U.S. Army fly...</td>\n",
       "    </tr>\n",
       "    <tr>\n",
       "      <th>1</th>\n",
       "      <td>1</td>\n",
       "      <td>September 07, 1909</td>\n",
       "      <td>?</td>\n",
       "      <td>Juvisy-sur-Orge, France</td>\n",
       "      <td>?</td>\n",
       "      <td>?</td>\n",
       "      <td>Air show</td>\n",
       "      <td>Wright Byplane</td>\n",
       "      <td>SC1</td>\n",
       "      <td>?</td>\n",
       "      <td>1</td>\n",
       "      <td>0</td>\n",
       "      <td>1</td>\n",
       "      <td>1</td>\n",
       "      <td>0</td>\n",
       "      <td>0</td>\n",
       "      <td>0</td>\n",
       "      <td>Eugene Lefebvre was the first pilot to ever be...</td>\n",
       "    </tr>\n",
       "    <tr>\n",
       "      <th>2</th>\n",
       "      <td>2</td>\n",
       "      <td>July 12, 1912</td>\n",
       "      <td>0630</td>\n",
       "      <td>Atlantic City, New Jersey</td>\n",
       "      <td>Military - U.S. Navy</td>\n",
       "      <td>?</td>\n",
       "      <td>Test flight</td>\n",
       "      <td>Dirigible</td>\n",
       "      <td>?</td>\n",
       "      <td>?</td>\n",
       "      <td>5</td>\n",
       "      <td>0</td>\n",
       "      <td>5</td>\n",
       "      <td>5</td>\n",
       "      <td>0</td>\n",
       "      <td>5</td>\n",
       "      <td>0</td>\n",
       "      <td>First U.S. dirigible Akron exploded just offsh...</td>\n",
       "    </tr>\n",
       "    <tr>\n",
       "      <th>3</th>\n",
       "      <td>3</td>\n",
       "      <td>August 06, 1913</td>\n",
       "      <td>?</td>\n",
       "      <td>Victoria, British Columbia, Canada</td>\n",
       "      <td>Private</td>\n",
       "      <td>?</td>\n",
       "      <td>?</td>\n",
       "      <td>Curtiss seaplane</td>\n",
       "      <td>?</td>\n",
       "      <td>?</td>\n",
       "      <td>1</td>\n",
       "      <td>0</td>\n",
       "      <td>1</td>\n",
       "      <td>1</td>\n",
       "      <td>0</td>\n",
       "      <td>1</td>\n",
       "      <td>0</td>\n",
       "      <td>The first fatal airplane accident in Canada oc...</td>\n",
       "    </tr>\n",
       "    <tr>\n",
       "      <th>4</th>\n",
       "      <td>4</td>\n",
       "      <td>September 09, 1913</td>\n",
       "      <td>1830</td>\n",
       "      <td>Over the North Sea</td>\n",
       "      <td>Military - German Navy</td>\n",
       "      <td>?</td>\n",
       "      <td>?</td>\n",
       "      <td>Zeppelin L-1 (airship)</td>\n",
       "      <td>?</td>\n",
       "      <td>?</td>\n",
       "      <td>20</td>\n",
       "      <td>?</td>\n",
       "      <td>?</td>\n",
       "      <td>14</td>\n",
       "      <td>?</td>\n",
       "      <td>?</td>\n",
       "      <td>0</td>\n",
       "      <td>The airship flew into a thunderstorm and encou...</td>\n",
       "    </tr>\n",
       "    <tr>\n",
       "      <th>...</th>\n",
       "      <td>...</td>\n",
       "      <td>...</td>\n",
       "      <td>...</td>\n",
       "      <td>...</td>\n",
       "      <td>...</td>\n",
       "      <td>...</td>\n",
       "      <td>...</td>\n",
       "      <td>...</td>\n",
       "      <td>...</td>\n",
       "      <td>...</td>\n",
       "      <td>...</td>\n",
       "      <td>...</td>\n",
       "      <td>...</td>\n",
       "      <td>...</td>\n",
       "      <td>...</td>\n",
       "      <td>...</td>\n",
       "      <td>...</td>\n",
       "      <td>...</td>\n",
       "    </tr>\n",
       "    <tr>\n",
       "      <th>5003</th>\n",
       "      <td>5003</td>\n",
       "      <td>March 28, 2021</td>\n",
       "      <td>1835</td>\n",
       "      <td>Near Butte, Alaska</td>\n",
       "      <td>Soloy Helicopters</td>\n",
       "      <td>?</td>\n",
       "      <td>Sightseeing Charter</td>\n",
       "      <td>Eurocopter AS350B3 Ecureuil</td>\n",
       "      <td>N351SH</td>\n",
       "      <td>4598</td>\n",
       "      <td>6</td>\n",
       "      <td>5</td>\n",
       "      <td>1</td>\n",
       "      <td>5</td>\n",
       "      <td>4</td>\n",
       "      <td>1</td>\n",
       "      <td>0</td>\n",
       "      <td>The sightseeing helicopter crashed after missi...</td>\n",
       "    </tr>\n",
       "    <tr>\n",
       "      <th>5004</th>\n",
       "      <td>5004</td>\n",
       "      <td>May 21, 2021</td>\n",
       "      <td>1800</td>\n",
       "      <td>Near Kaduna, Nigeria</td>\n",
       "      <td>Military - Nigerian Air Force</td>\n",
       "      <td>?</td>\n",
       "      <td>?</td>\n",
       "      <td>Beechcraft B300 King Air 350i</td>\n",
       "      <td>NAF203</td>\n",
       "      <td>FL-891</td>\n",
       "      <td>11</td>\n",
       "      <td>7</td>\n",
       "      <td>4</td>\n",
       "      <td>11</td>\n",
       "      <td>7</td>\n",
       "      <td>4</td>\n",
       "      <td>0</td>\n",
       "      <td>While on final approach, in poor weather condi...</td>\n",
       "    </tr>\n",
       "    <tr>\n",
       "      <th>5005</th>\n",
       "      <td>5005</td>\n",
       "      <td>June 10, 2021</td>\n",
       "      <td>0800</td>\n",
       "      <td>Near Pyin Oo Lwin, Myanmar</td>\n",
       "      <td>Military - Myanmar Air Force</td>\n",
       "      <td>?</td>\n",
       "      <td>Naypyidaw - Anisakan</td>\n",
       "      <td>Beechcraft 1900D</td>\n",
       "      <td>4610</td>\n",
       "      <td>E-325</td>\n",
       "      <td>14</td>\n",
       "      <td>12</td>\n",
       "      <td>2</td>\n",
       "      <td>12</td>\n",
       "      <td>11</td>\n",
       "      <td>1</td>\n",
       "      <td>0</td>\n",
       "      <td>The plane was carrying military personnel and ...</td>\n",
       "    </tr>\n",
       "    <tr>\n",
       "      <th>5006</th>\n",
       "      <td>5006</td>\n",
       "      <td>July 04, 2021</td>\n",
       "      <td>11:30</td>\n",
       "      <td>Patikul, Sulu, Philippines</td>\n",
       "      <td>Military - Philippine Air Force</td>\n",
       "      <td>?</td>\n",
       "      <td>Cagayan de Oro-Lumbia - Jolo</td>\n",
       "      <td>Lockheed C-130H Hercules</td>\n",
       "      <td>5125</td>\n",
       "      <td>5125</td>\n",
       "      <td>96</td>\n",
       "      <td>88</td>\n",
       "      <td>8</td>\n",
       "      <td>50</td>\n",
       "      <td>?</td>\n",
       "      <td>?</td>\n",
       "      <td>3</td>\n",
       "      <td>While attempting to land at Jolo Airport, the ...</td>\n",
       "    </tr>\n",
       "    <tr>\n",
       "      <th>5007</th>\n",
       "      <td>5007</td>\n",
       "      <td>July 06, 2021</td>\n",
       "      <td>1500</td>\n",
       "      <td>Palana, Russia</td>\n",
       "      <td>Kamchatka Aviation Enterprise</td>\n",
       "      <td>251</td>\n",
       "      <td>Petropavlovsk - Palana</td>\n",
       "      <td>Antonov An 26B-100</td>\n",
       "      <td>RA-26085</td>\n",
       "      <td>12310</td>\n",
       "      <td>28</td>\n",
       "      <td>22</td>\n",
       "      <td>6</td>\n",
       "      <td>28</td>\n",
       "      <td>22</td>\n",
       "      <td>6</td>\n",
       "      <td>0</td>\n",
       "      <td>The passenger plane crashed into the top of a ...</td>\n",
       "    </tr>\n",
       "  </tbody>\n",
       "</table>\n",
       "<p>5008 rows × 18 columns</p>\n",
       "</div>"
      ],
      "text/plain": [
       "      Unnamed: 0               fecha   hora  \\\n",
       "0              0  September 17, 1908   1718   \n",
       "1              1  September 07, 1909      ?   \n",
       "2              2       July 12, 1912   0630   \n",
       "3              3     August 06, 1913      ?   \n",
       "4              4  September 09, 1913   1830   \n",
       "...          ...                 ...    ...   \n",
       "5003        5003      March 28, 2021   1835   \n",
       "5004        5004        May 21, 2021   1800   \n",
       "5005        5005       June 10, 2021   0800   \n",
       "5006        5006       July 04, 2021  11:30   \n",
       "5007        5007       July 06, 2021   1500   \n",
       "\n",
       "                                    pais                        operadora  \\\n",
       "0                    Fort Myer, Virginia             Military - U.S. Army   \n",
       "1                Juvisy-sur-Orge, France                                ?   \n",
       "2              Atlantic City, New Jersey             Military - U.S. Navy   \n",
       "3     Victoria, British Columbia, Canada                          Private   \n",
       "4                     Over the North Sea           Military - German Navy   \n",
       "...                                  ...                              ...   \n",
       "5003                  Near Butte, Alaska                Soloy Helicopters   \n",
       "5004                Near Kaduna, Nigeria    Military - Nigerian Air Force   \n",
       "5005          Near Pyin Oo Lwin, Myanmar     Military - Myanmar Air Force   \n",
       "5006          Patikul, Sulu, Philippines  Military - Philippine Air Force   \n",
       "5007                      Palana, Russia    Kamchatka Aviation Enterprise   \n",
       "\n",
       "     vuelo_numero                          ruta  \\\n",
       "0               ?                 Demonstration   \n",
       "1               ?                      Air show   \n",
       "2               ?                   Test flight   \n",
       "3               ?                             ?   \n",
       "4               ?                             ?   \n",
       "...           ...                           ...   \n",
       "5003            ?           Sightseeing Charter   \n",
       "5004            ?                             ?   \n",
       "5005            ?          Naypyidaw - Anisakan   \n",
       "5006            ?  Cagayan de Oro-Lumbia - Jolo   \n",
       "5007          251        Petropavlovsk - Palana   \n",
       "\n",
       "                      tipo_aeronave registro_aeronave registro_fuselaje  \\\n",
       "0                  Wright Flyer III                 ?                 1   \n",
       "1                    Wright Byplane               SC1                 ?   \n",
       "2                         Dirigible                 ?                 ?   \n",
       "3                  Curtiss seaplane                 ?                 ?   \n",
       "4            Zeppelin L-1 (airship)                 ?                 ?   \n",
       "...                             ...               ...               ...   \n",
       "5003    Eurocopter AS350B3 Ecureuil            N351SH              4598   \n",
       "5004  Beechcraft B300 King Air 350i            NAF203            FL-891   \n",
       "5005               Beechcraft 1900D              4610             E-325   \n",
       "5006       Lockheed C-130H Hercules              5125              5125   \n",
       "5007             Antonov An 26B-100          RA-26085             12310   \n",
       "\n",
       "     abordo pasajeros tripulantes bajas bajas_pasajeros bajas_tripulacion  \\\n",
       "0         2         1           1     1               1                 0   \n",
       "1         1         0           1     1               0                 0   \n",
       "2         5         0           5     5               0                 5   \n",
       "3         1         0           1     1               0                 1   \n",
       "4        20         ?           ?    14               ?                 ?   \n",
       "...     ...       ...         ...   ...             ...               ...   \n",
       "5003      6         5           1     5               4                 1   \n",
       "5004     11         7           4    11               7                 4   \n",
       "5005     14        12           2    12              11                 1   \n",
       "5006     96        88           8    50               ?                 ?   \n",
       "5007     28        22           6    28              22                 6   \n",
       "\n",
       "     bajas_tierra                                        Descripcion  \n",
       "0               0  During a demonstration flight, a U.S. Army fly...  \n",
       "1               0  Eugene Lefebvre was the first pilot to ever be...  \n",
       "2               0  First U.S. dirigible Akron exploded just offsh...  \n",
       "3               0  The first fatal airplane accident in Canada oc...  \n",
       "4               0  The airship flew into a thunderstorm and encou...  \n",
       "...           ...                                                ...  \n",
       "5003            0  The sightseeing helicopter crashed after missi...  \n",
       "5004            0  While on final approach, in poor weather condi...  \n",
       "5005            0  The plane was carrying military personnel and ...  \n",
       "5006            3  While attempting to land at Jolo Airport, the ...  \n",
       "5007            0  The passenger plane crashed into the top of a ...  \n",
       "\n",
       "[5008 rows x 18 columns]"
      ]
     },
     "execution_count": 42,
     "metadata": {},
     "output_type": "execute_result"
    }
   ],
   "source": [
    "# primero asignarle un nombre entendible a las columnas.\n",
    "aa.rename(columns={ 'fecha': 'fecha', \n",
    "                    'HORA declarada': 'hora',\n",
    "                    'Ruta': 'pais',\n",
    "                    'OperadOR': 'operadora',\n",
    "                    'flight_no': 'vuelo_numero',\n",
    "                    'route' : 'ruta',\n",
    "                    'ac_type': 'tipo_aeronave',\n",
    "                    'registration': 'registro_aeronave',\n",
    "                    'cn_ln': 'registro_fuselaje',\n",
    "                    'all_aboard': 'abordo',\n",
    "                    'PASAJEROS A BORDO': 'pasajeros',\n",
    "                    'crew_aboard': 'tripulantes',\n",
    "                    'cantidad de fallecidos': 'bajas',\n",
    "                    'passenger_fatalities': 'bajas_pasajeros',\n",
    "                    'crew_fatalities': 'bajas_tripulacion',\n",
    "                    'ground': 'bajas_tierra',\n",
    "                    'summary': 'Descripcion'\n",
    "}, inplace=True)\n",
    "aa"
   ]
  },
  {
   "cell_type": "markdown",
   "metadata": {},
   "source": [
    "- una vez definido nuestro diccionario hay que darle un formato a cada columna."
   ]
  },
  {
   "cell_type": "code",
   "execution_count": 43,
   "metadata": {},
   "outputs": [
    {
     "name": "stdout",
     "output_type": "stream",
     "text": [
      "<class 'pandas.core.frame.DataFrame'>\n",
      "RangeIndex: 5008 entries, 0 to 5007\n",
      "Data columns (total 18 columns):\n",
      " #   Column             Non-Null Count  Dtype \n",
      "---  ------             --------------  ----- \n",
      " 0   Unnamed: 0         5008 non-null   int64 \n",
      " 1   fecha              5008 non-null   object\n",
      " 2   hora               5008 non-null   object\n",
      " 3   pais               5008 non-null   object\n",
      " 4   operadora          5008 non-null   object\n",
      " 5   vuelo_numero       5008 non-null   object\n",
      " 6   ruta               5007 non-null   object\n",
      " 7   tipo_aeronave      5008 non-null   object\n",
      " 8   registro_aeronave  5008 non-null   object\n",
      " 9   registro_fuselaje  5008 non-null   object\n",
      " 10  abordo             5008 non-null   object\n",
      " 11  pasajeros          5008 non-null   object\n",
      " 12  tripulantes        5008 non-null   object\n",
      " 13  bajas              5008 non-null   object\n",
      " 14  bajas_pasajeros    5008 non-null   object\n",
      " 15  bajas_tripulacion  5008 non-null   object\n",
      " 16  bajas_tierra       5008 non-null   object\n",
      " 17  Descripcion        5008 non-null   object\n",
      "dtypes: int64(1), object(17)\n",
      "memory usage: 704.4+ KB\n"
     ]
    }
   ],
   "source": [
    "# visualizamos el tipo de datos para formatear.\n",
    "aa.info()\n"
   ]
  },
  {
   "cell_type": "code",
   "execution_count": 44,
   "metadata": {},
   "outputs": [
    {
     "data": {
      "text/plain": [
       "Index(['fecha', 'hora', 'pais', 'operadora', 'vuelo_numero', 'ruta',\n",
       "       'tipo_aeronave', 'registro_aeronave', 'abordo', 'pasajeros',\n",
       "       'tripulantes', 'bajas', 'bajas_pasajeros', 'bajas_tripulacion',\n",
       "       'bajas_tierra', 'Descripcion'],\n",
       "      dtype='object')"
      ]
     },
     "execution_count": 44,
     "metadata": {},
     "output_type": "execute_result"
    }
   ],
   "source": [
    "# retiro las columnas 'Unnamed:' y el registro de fuselaje en este caso no los usare.\n",
    "aa.drop(columns=['Unnamed: 0','registro_fuselaje'], inplace = True)\n",
    "aa.columns"
   ]
  },
  {
   "cell_type": "code",
   "execution_count": 45,
   "metadata": {},
   "outputs": [
    {
     "data": {
      "text/plain": [
       "(5008, 16)"
      ]
     },
     "execution_count": 45,
     "metadata": {},
     "output_type": "execute_result"
    }
   ],
   "source": [
    "# seguimos con las mismas filas pero retiramos 2 columnas.\n",
    "aa.shape"
   ]
  },
  {
   "cell_type": "markdown",
   "metadata": {},
   "source": [
    "Empecemos...\n"
   ]
  },
  {
   "cell_type": "code",
   "execution_count": 46,
   "metadata": {},
   "outputs": [
    {
     "data": {
      "text/plain": [
       "0       September 17, 1908\n",
       "1       September 07, 1909\n",
       "2            July 12, 1912\n",
       "3          August 06, 1913\n",
       "4       September 09, 1913\n",
       "               ...        \n",
       "5003        March 28, 2021\n",
       "5004          May 21, 2021\n",
       "5005         June 10, 2021\n",
       "5006         July 04, 2021\n",
       "5007         July 06, 2021\n",
       "Name: fecha, Length: 5008, dtype: object"
      ]
     },
     "execution_count": 46,
     "metadata": {},
     "output_type": "execute_result"
    }
   ],
   "source": [
    "aa['fecha']"
   ]
  },
  {
   "cell_type": "code",
   "execution_count": 47,
   "metadata": {},
   "outputs": [
    {
     "data": {
      "text/plain": [
       "0   1908-09-17\n",
       "1   1909-09-07\n",
       "2   1912-07-12\n",
       "3   1913-08-06\n",
       "4   1913-09-09\n",
       "Name: fecha, dtype: datetime64[ns]"
      ]
     },
     "execution_count": 47,
     "metadata": {},
     "output_type": "execute_result"
    }
   ],
   "source": [
    "#crear una funcion que formatee la columna fecha a dtype 'datatime64' \n",
    "#permitiendo asi usarla adecuadamente.\n",
    "def convertir_fecha(texto_fecha, formato_entrada, formato_salida):\n",
    "    try:\n",
    "        fecha_objeto = datetime.strptime(texto_fecha, formato_entrada)\n",
    "        fecha_formateada = fecha_objeto.strftime(formato_salida)\n",
    "        return fecha_formateada\n",
    "    except ValueError:\n",
    "        return None\n",
    "\n",
    "\n",
    "\n",
    "# Especificar los formatos de entrada y salida\n",
    "formato_entrada = '%B %d, %Y'\n",
    "formato_salida = '%Y-%m-%d'\n",
    "\n",
    "# Aplicar la función de conversión a la columna 'fecha'\n",
    "aa['fecha'] = aa['fecha'].apply(lambda x: convertir_fecha(x, formato_entrada, formato_salida))\n",
    "\n",
    "# Reemplazar valores nulos por ''\n",
    "aa['fecha'] = aa['fecha'].fillna('')\n",
    "\n",
    "# Reemplazar valores '?' por un valor vacío\n",
    "aa['fecha'] = aa['fecha'].str.replace('?', '')\n",
    "\n",
    "# Convertir la columna 'fecha' al formato datetime\n",
    "aa['fecha'] = pd.to_datetime(aa['fecha'], format=formato_salida)\n",
    "\n",
    "aa['fecha'].head()"
   ]
  },
  {
   "cell_type": "markdown",
   "metadata": {},
   "source": [
    "-----------------------------------------------------------------------------"
   ]
  },
  {
   "cell_type": "code",
   "execution_count": 48,
   "metadata": {},
   "outputs": [
    {
     "name": "stdout",
     "output_type": "stream",
     "text": [
      "<class 'pandas.core.frame.DataFrame'>\n",
      "RangeIndex: 5008 entries, 0 to 5007\n",
      "Data columns (total 16 columns):\n",
      " #   Column             Non-Null Count  Dtype         \n",
      "---  ------             --------------  -----         \n",
      " 0   fecha              5008 non-null   datetime64[ns]\n",
      " 1   hora               5008 non-null   object        \n",
      " 2   pais               5008 non-null   object        \n",
      " 3   operadora          5008 non-null   object        \n",
      " 4   vuelo_numero       5008 non-null   object        \n",
      " 5   ruta               5007 non-null   object        \n",
      " 6   tipo_aeronave      5008 non-null   object        \n",
      " 7   registro_aeronave  5008 non-null   object        \n",
      " 8   abordo             5008 non-null   object        \n",
      " 9   pasajeros          5008 non-null   object        \n",
      " 10  tripulantes        5008 non-null   object        \n",
      " 11  bajas              5008 non-null   object        \n",
      " 12  bajas_pasajeros    5008 non-null   object        \n",
      " 13  bajas_tripulacion  5008 non-null   object        \n",
      " 14  bajas_tierra       5008 non-null   object        \n",
      " 15  Descripcion        5008 non-null   object        \n",
      "dtypes: datetime64[ns](1), object(15)\n",
      "memory usage: 626.1+ KB\n"
     ]
    }
   ],
   "source": [
    "aa.info() # ya tenemos nuestra primer columna lista."
   ]
  },
  {
   "cell_type": "code",
   "execution_count": 49,
   "metadata": {},
   "outputs": [],
   "source": [
    "# formatizamos la columna 'hora'\n",
    "# comencemos poniendo ':' entre los numeros \n",
    "aa['hora'] = aa['hora'].str.replace(r'(\\d{2})(\\d{2})', r'\\1:\\2', regex=True)"
   ]
  },
  {
   "cell_type": "code",
   "execution_count": 50,
   "metadata": {},
   "outputs": [
    {
     "data": {
      "text/plain": [
       "(5008, 16)"
      ]
     },
     "execution_count": 50,
     "metadata": {},
     "output_type": "execute_result"
    }
   ],
   "source": [
    "aa.shape"
   ]
  },
  {
   "cell_type": "code",
   "execution_count": 51,
   "metadata": {},
   "outputs": [],
   "source": [
    "# filtramos nulos, reemplazandolo por una '' vacio.\n",
    "aa['hora'] = aa['hora'].fillna('')\n",
    "\n",
    "# convierto la hora en texto\n",
    "aa['hora'] = aa['hora'].astype(str)\n",
    "\n",
    "# Elimina los caracteres '?' de la columna\n",
    "aa['hora'] = aa['hora'].str.replace('?', '')\n",
    "\n",
    "# Elimina espacios en blanco alrededor de los valores\n",
    "aa['hora'] = aa['hora'].str.strip()\n",
    "\n",
    "# Extraemos los valores correspondientes a 'HH:MM'  \n",
    "aa['hora'] = aa['hora'].str.extract(r'(\\d{2}:\\d{2})', expand=False)\n",
    "\n",
    "# Rellena los valores nulos en 'hora' con una cadena vacía\n",
    "aa['hora'].fillna('', inplace=True)\n",
    "\n",
    "# Se le da formato a la hora con datetime, muestra solo la hora y convierte en string.\n",
    "aa['hora'] = pd.to_datetime(aa['hora'], format='%H:%M', errors='coerce')\n",
    "aa['hora'] = aa['hora'].dt.strftime('%H:%M')\n",
    "aa['hora'] = aa['hora'].astype(str)\n"
   ]
  },
  {
   "cell_type": "code",
   "execution_count": 52,
   "metadata": {},
   "outputs": [
    {
     "data": {
      "text/plain": [
       "0       17:18\n",
       "1         nan\n",
       "2       06:30\n",
       "3         nan\n",
       "4       18:30\n",
       "        ...  \n",
       "5003    18:35\n",
       "5004    18:00\n",
       "5005    08:00\n",
       "5006    11:30\n",
       "5007    15:00\n",
       "Name: hora, Length: 5008, dtype: object"
      ]
     },
     "execution_count": 52,
     "metadata": {},
     "output_type": "execute_result"
    }
   ],
   "source": [
    "aa['hora']\n",
    "# listo ya tenemos las dos primeras columnas.\n"
   ]
  },
  {
   "cell_type": "code",
   "execution_count": 53,
   "metadata": {},
   "outputs": [
    {
     "data": {
      "text/plain": [
       "array(['Fort Myer, Virginia', 'Juvisy-sur-Orge, France',\n",
       "       'Atlantic City, New Jersey', ..., 'Near Pyin Oo Lwin, Myanmar',\n",
       "       'Patikul, Sulu, Philippines', 'Palana, Russia'], dtype=object)"
      ]
     },
     "execution_count": 53,
     "metadata": {},
     "output_type": "execute_result"
    }
   ],
   "source": [
    "# la columna 'pais' dejare solo el pais donde sucedio el accidente segun la documentacion.\n",
    "aa.pais.unique()"
   ]
  },
  {
   "cell_type": "code",
   "execution_count": 54,
   "metadata": {},
   "outputs": [
    {
     "data": {
      "text/plain": [
       "4125"
      ]
     },
     "execution_count": 54,
     "metadata": {},
     "output_type": "execute_result"
    }
   ],
   "source": [
    "aa.pais.nunique()"
   ]
  },
  {
   "cell_type": "code",
   "execution_count": null,
   "metadata": {},
   "outputs": [],
   "source": []
  },
  {
   "cell_type": "code",
   "execution_count": 55,
   "metadata": {},
   "outputs": [],
   "source": [
    "aa['pais'] = aa['pais'].fillna('')\n",
    "aa['pais'] = aa['pais'].str.replace('?', '')"
   ]
  },
  {
   "cell_type": "code",
   "execution_count": 56,
   "metadata": {},
   "outputs": [],
   "source": [
    "# una lista con los países\n",
    "lista_paises = [\n",
    "    \"Afghanistan\", \"Albania\", \"Algeria\", \"Andorra\", \"Angola\", \"Antigua and Barbuda\", \"Argentina\", \"Armenia\",\n",
    "    \"Australia\", \"Austria\", \"Azerbaijan\", \"Bahamas\", \"Bahrain\", \"Bangladesh\", \"Barbados\", \"Belarus\", \"Belgium\",\n",
    "    \"Belize\", \"Benin\", \"Bhutan\", \"Bolivia\", \"Bosnia and Herzegovina\", \"Botswana\", \"Brazil\", \"Brunei\", \"Bulgaria\",\n",
    "    \"Burkina Faso\", \"Burundi\", \"Côte d'Ivoire\", \"Cabo Verde\", \"Cambodia\", \"Cameroon\", \"Canada\",\n",
    "    \"Central African Republic\", \"Chad\", \"Chile\", \"China\", \"Colombia\", \"Comoros\", \"Congo\", \"Costa Rica\", \"Croatia\",\n",
    "    \"Cuba\", \"Cyprus\", \"Czech Republic\", \"Democratic Republic of the Congo\", \"Denmark\", \"Djibouti\", \"Dominica\",\n",
    "    \"Dominican Republic\", \"Ecuador\", \"England\", \"Egypt\", \"El Salvador\", \"Equatorial Guinea\", \"Eritrea\", \"Estonia\",\n",
    "    \"Eswatini\", \"Ethiopia\", \"Fiji\", \"Finland\", \"France\", \"Gabon\", \"Gambia\", \"Georgia\", \"Germany\", \"Ghana\", \"Greece\",\n",
    "    \"Grenada\", \"Guatemala\", \"Guinea\", \"Guinea-Bissau\", \"Guyana\", \"Haiti\", \"Holy See\", \"Honduras\", \"Hungary\",\n",
    "    \"Iceland\", \"India\", \"Indonesia\", \"Iran\", \"Iraq\", \"Ireland\", \"Israel\", \"Italy\",\"Ivory Coast\", \"Jamaica\", \"Japan\", \"Jordan\",\n",
    "    \"Kazakhstan\", \"Kenya\", \"Kiribati\", \"Kuwait\", \"Kyrgyzstan\", \"Laos\", \"Latvia\", \"Lebanon\", \"Lesotho\", \"Liberia\",\n",
    "    \"Libya\", \"Liechtenstein\", \"Lithuania\", \"Luxembourg\", \"Madagascar\", \"Malawi\", \"Malaysia\", \"Maldives\", \"Mali\",\n",
    "    \"Malta\", \"Marshall Islands\", \"Mauritania\", \"Mauritius\", \"Mexico\", \"Micronesia\", \"Moldova\", \"Monaco\", \"Mongolia\",\n",
    "    \"Montenegro\", \"Morocco\", \"Mozambique\", \"Myanmar\", \"Namibia\", \"Nauru\", \"Nepal\", \"Netherlands\", \"New Zealand\",\n",
    "    \"Nicaragua\", \"Nigeria\", \"Niger\", \"North Korea\", \"North Macedonia\", \"Norway\", \"Oman\", \"Pakistan\", \"Palau\",\n",
    "    \"Palestine State\", \"Panama\", \"Papua\", \"Papua New Guinea\", \"Paraguay\", \"Peru\", \"Philippines\", \"Poland\", \"Portugal\", \"Puerto Rico\",\n",
    "    \"Qatar\", \"Romania\", \"Russia\", \"Rwanda\", \"Saint Kitts and Nevis\", \"Saint Lucia\",\n",
    "    \"Saint Vincent and the Grenadines\", \"Samoa\", \"San Marino\", \"Sao Tome and Principe\", \"Saudi Arabia\", \"Senegal\", \"Scotland\",\n",
    "    \"Serbia\", \"Seychelles\", \"Sierra Leone\", \"Singapore\", \"Slovakia\", \"Slovenia\", \"Solomon Islands\", \"Somalia\",\n",
    "    \"South Africa\", \"South Korea\", \"South Sudan\", \"Spain\", \"Sri Lanka\", \"Sudan\", \"Suriname\", \"Sweden\", \"Switzerland\",\n",
    "    \"Syria\", \"Tajikistan\", \"Taiwan\", \"Tanzania\", \"Thailand\", \"Timor-Leste\", \"Togo\", \"Tonga\", \"Trinidad and Tobago\",\n",
    "    \"Tunisia\", \"Turkey\", \"Turkmenistan\", \"Tuvalu\", \"Uganda\", \"Ukraine\", \"United Arab Emirates\", \"United Kingdom\",\n",
    "    \"United States\", \"Uruguay\", \"USSR\", \"Uzbekistan\", \"Vanuatu\", \"Venezuela\", \"Vietnam\", \"Yemen\", \"Zambia\", \"Zimbabwe\"\n",
    "]\n",
    "\n",
    "#definimos una función para mostrar solo el país en la columna\n",
    "def obtener_pais(location):\n",
    "    for pais in lista_paises:\n",
    "        if pais.lower() in location.lower():\n",
    "            return pais\n",
    "    return 'other'\n",
    "\n",
    "# Aplicamos la función 'obtener_país' a la columna 'pais' y creamos la columna 'pais'\n",
    "aa['pais'] = aa['pais'].apply(obtener_pais)"
   ]
  },
  {
   "cell_type": "code",
   "execution_count": 57,
   "metadata": {},
   "outputs": [],
   "source": [
    "#vamos con la columna 'operadora'\n",
    "# Reemplazamos los valores nulos por un valor vacío\n",
    "aa['operadora'] = aa['operadora'].fillna('')\n",
    "\n",
    "# Reemplazamos los valores de ? por un valor vacío\n",
    "aa['operadora'] = aa['operadora'].str.replace('?', '')\n"
   ]
  },
  {
   "cell_type": "code",
   "execution_count": 58,
   "metadata": {},
   "outputs": [],
   "source": [
    "# Reemplazamos los valores nulos por un valor vacío\n",
    "aa['vuelo_numero'] = aa['vuelo_numero'].fillna('')\n",
    "\n",
    "# Reemplazamos los valores de ? por un valor vacío\n",
    "aa['vuelo_numero'] = aa['vuelo_numero'].str.replace('?', '')\n"
   ]
  },
  {
   "cell_type": "code",
   "execution_count": 59,
   "metadata": {},
   "outputs": [],
   "source": [
    "\n",
    "\n",
    "# Reemplazamos los valores nulos por un valor vacío\n",
    "aa['ruta'] = aa['ruta'].fillna('')\n",
    "\n",
    "# Reemplazamos los valores de ? por un valor vacío\n",
    "aa['ruta'] = aa['ruta'].str.replace('?', '')\n",
    "\n"
   ]
  },
  {
   "cell_type": "code",
   "execution_count": 60,
   "metadata": {},
   "outputs": [],
   "source": [
    "# Reemplazamos los valores nulos por un valor vacío\n",
    "aa['tipo_aeronave'] = aa['tipo_aeronave'].fillna('')\n",
    "\n",
    "# Reemplazamos los valores de ? por un valor vacío\n",
    "aa['tipo_aeronave'] = aa['tipo_aeronave'].str.replace('?', '')"
   ]
  },
  {
   "cell_type": "code",
   "execution_count": 61,
   "metadata": {},
   "outputs": [],
   "source": [
    "#tomamos  una lista de marcas de aeronaves \n",
    "marcas_aeronaves_historicas = ['Wright Brothers', 'Boeing', 'Airbus', 'Lockheed Martin', 'McDonnell Douglas',\n",
    "                              'Northrop Grumman', 'Convair', 'Grumman', 'Vickers', 'De Havilland', 'Hawker',\n",
    "                              'Avro', 'Fokker', 'Junkers', 'Douglas Aircraft Company', 'Cessna', 'Piper Aircraft',\n",
    "                              'Beechcraft', 'Bell Aircraft Corporation', 'Martin Marietta', 'Fairchild Aircraft',\n",
    "                              'Bristol Aeroplane Company', 'Handley Page', 'Curtiss-Wright Corporation', 'Saab',\n",
    "                              'Aérospatiale', 'Tupolev', 'Ilyushin', 'Antonov', 'Yakovlev', 'Sud Aviation',\n",
    "                              'Dornier', 'Breguet Aviation', 'Messerschmitt', 'Vought', 'Piaggio Aerospace',\n",
    "                              'Sikorsky Aircraft Corporation', 'Short Brothers', 'Supermarine', 'Avro Canada',\n",
    "                              'Harbin Aircraft Manufacturing Corporation', 'English Electric',\n",
    "                              'Mitsubishi Heavy Industries', 'Aichi', 'Nakajima', 'Kawasaki Heavy Industries',\n",
    "                              'Handley Page', 'Armstrong Whitworth Aircraft', 'Blackburn Aircraft',\n",
    "                              'Sopwith Aviation Company']"
   ]
  },
  {
   "cell_type": "code",
   "execution_count": 62,
   "metadata": {},
   "outputs": [],
   "source": [
    "# Función para asignar valores a la columna 'brand'\n",
    "def assign_brand(aircraft_type):\n",
    "    for brand in marcas_aeronaves_historicas:\n",
    "        if any(word.lower() in aircraft_type.lower().split() for word in brand.split()):\n",
    "            return brand\n",
    "    return 'other'\n",
    "\n",
    "# Aplicamos la función a la columna 'aircraft_type' para crear la columna 'brand'\n",
    "aa['tipo_aeronave'] = aa['tipo_aeronave'].apply(assign_brand)"
   ]
  },
  {
   "cell_type": "code",
   "execution_count": 63,
   "metadata": {},
   "outputs": [
    {
     "name": "stderr",
     "output_type": "stream",
     "text": [
      "/tmp/ipykernel_7586/81569395.py:11: SettingWithCopyWarning: \n",
      "A value is trying to be set on a copy of a slice from a DataFrame.\n",
      "Try using .loc[row_indexer,col_indexer] = value instead\n",
      "\n",
      "See the caveats in the documentation: https://pandas.pydata.org/pandas-docs/stable/user_guide/indexing.html#returning-a-view-versus-a-copy\n",
      "  aa['abordo'] = aa['abordo'].astype(int)\n"
     ]
    }
   ],
   "source": [
    "# Reemplazar los valores nulos por un valor vacío\n",
    "aa['abordo'] = aa['abordo'].fillna('')\n",
    "\n",
    "# Reemplazar los valores de ? por un valor vacío\n",
    "aa['abordo'] = aa['abordo'].str.replace('?', '')\n",
    "\n",
    "# Eliminar filas con valores que no son números válidos (NaN y cadenas no numéricas)\n",
    "aa = aa[pd.to_numeric(aa['abordo'], errors='coerce').notna()]\n",
    "\n",
    "# Convertir la columna 'a bordo' a tipo entero (int)\n",
    "aa['abordo'] = aa['abordo'].astype(int)\n"
   ]
  },
  {
   "cell_type": "code",
   "execution_count": 64,
   "metadata": {},
   "outputs": [
    {
     "name": "stderr",
     "output_type": "stream",
     "text": [
      "/tmp/ipykernel_7586/3674777899.py:2: SettingWithCopyWarning: \n",
      "A value is trying to be set on a copy of a slice from a DataFrame.\n",
      "Try using .loc[row_indexer,col_indexer] = value instead\n",
      "\n",
      "See the caveats in the documentation: https://pandas.pydata.org/pandas-docs/stable/user_guide/indexing.html#returning-a-view-versus-a-copy\n",
      "  aa['registro_aeronave'] = aa['registro_aeronave'] .fillna('')\n",
      "/tmp/ipykernel_7586/3674777899.py:5: SettingWithCopyWarning: \n",
      "A value is trying to be set on a copy of a slice from a DataFrame.\n",
      "Try using .loc[row_indexer,col_indexer] = value instead\n",
      "\n",
      "See the caveats in the documentation: https://pandas.pydata.org/pandas-docs/stable/user_guide/indexing.html#returning-a-view-versus-a-copy\n",
      "  aa['registro_aeronave']  = aa['registro_aeronave'] .str.replace('?', '')\n",
      "/tmp/ipykernel_7586/3674777899.py:8: SettingWithCopyWarning: \n",
      "A value is trying to be set on a copy of a slice from a DataFrame.\n",
      "Try using .loc[row_indexer,col_indexer] = value instead\n",
      "\n",
      "See the caveats in the documentation: https://pandas.pydata.org/pandas-docs/stable/user_guide/indexing.html#returning-a-view-versus-a-copy\n",
      "  aa['registro_aeronave']  = pd.to_numeric(aa['registro_aeronave'] , errors='coerce')\n"
     ]
    }
   ],
   "source": [
    "# Reemplazamos los valores nulos por un valor vacío\n",
    "aa['registro_aeronave'] = aa['registro_aeronave'] .fillna('')\n",
    "\n",
    "# Reemplazamos los valores de ? por un valor vacío\n",
    "aa['registro_aeronave']  = aa['registro_aeronave'] .str.replace('?', '')\n",
    "\n",
    "# Convertimos la columna 'a bordo' a tipo numérico \n",
    "aa['registro_aeronave']  = pd.to_numeric(aa['registro_aeronave'] , errors='coerce')"
   ]
  },
  {
   "cell_type": "code",
   "execution_count": 65,
   "metadata": {},
   "outputs": [
    {
     "name": "stderr",
     "output_type": "stream",
     "text": [
      "/tmp/ipykernel_7586/2989187705.py:2: SettingWithCopyWarning: \n",
      "A value is trying to be set on a copy of a slice from a DataFrame.\n",
      "Try using .loc[row_indexer,col_indexer] = value instead\n",
      "\n",
      "See the caveats in the documentation: https://pandas.pydata.org/pandas-docs/stable/user_guide/indexing.html#returning-a-view-versus-a-copy\n",
      "  aa['bajas'] = aa['bajas'].fillna('')\n",
      "/tmp/ipykernel_7586/2989187705.py:5: SettingWithCopyWarning: \n",
      "A value is trying to be set on a copy of a slice from a DataFrame.\n",
      "Try using .loc[row_indexer,col_indexer] = value instead\n",
      "\n",
      "See the caveats in the documentation: https://pandas.pydata.org/pandas-docs/stable/user_guide/indexing.html#returning-a-view-versus-a-copy\n",
      "  aa['bajas'] = aa['bajas'].str.replace('?', '')\n",
      "/tmp/ipykernel_7586/2989187705.py:8: SettingWithCopyWarning: \n",
      "A value is trying to be set on a copy of a slice from a DataFrame.\n",
      "Try using .loc[row_indexer,col_indexer] = value instead\n",
      "\n",
      "See the caveats in the documentation: https://pandas.pydata.org/pandas-docs/stable/user_guide/indexing.html#returning-a-view-versus-a-copy\n",
      "  aa['bajas'] = pd.to_numeric(aa['bajas'], errors='coerce')\n"
     ]
    }
   ],
   "source": [
    "# Reemplazamos los valores nulos por un valor vacío\n",
    "aa['bajas'] = aa['bajas'].fillna('')\n",
    "\n",
    "# Reemplazamos los valores de ? por un valor vacío\n",
    "aa['bajas'] = aa['bajas'].str.replace('?', '')\n",
    "\n",
    "# Convertimos la columna 'total_abord' a tipo numérico \n",
    "aa['bajas'] = pd.to_numeric(aa['bajas'], errors='coerce')"
   ]
  },
  {
   "cell_type": "code",
   "execution_count": 66,
   "metadata": {},
   "outputs": [
    {
     "name": "stderr",
     "output_type": "stream",
     "text": [
      "/tmp/ipykernel_7586/868821141.py:2: SettingWithCopyWarning: \n",
      "A value is trying to be set on a copy of a slice from a DataFrame.\n",
      "Try using .loc[row_indexer,col_indexer] = value instead\n",
      "\n",
      "See the caveats in the documentation: https://pandas.pydata.org/pandas-docs/stable/user_guide/indexing.html#returning-a-view-versus-a-copy\n",
      "  aa['tripulantes'] = aa['tripulantes'].fillna('')\n",
      "/tmp/ipykernel_7586/868821141.py:5: SettingWithCopyWarning: \n",
      "A value is trying to be set on a copy of a slice from a DataFrame.\n",
      "Try using .loc[row_indexer,col_indexer] = value instead\n",
      "\n",
      "See the caveats in the documentation: https://pandas.pydata.org/pandas-docs/stable/user_guide/indexing.html#returning-a-view-versus-a-copy\n",
      "  aa['tripulantes'] = aa['tripulantes'].str.replace('?', '')\n",
      "/tmp/ipykernel_7586/868821141.py:8: SettingWithCopyWarning: \n",
      "A value is trying to be set on a copy of a slice from a DataFrame.\n",
      "Try using .loc[row_indexer,col_indexer] = value instead\n",
      "\n",
      "See the caveats in the documentation: https://pandas.pydata.org/pandas-docs/stable/user_guide/indexing.html#returning-a-view-versus-a-copy\n",
      "  aa['tripulantes'] = pd.to_numeric(aa['tripulantes'], errors='coerce')\n",
      "/tmp/ipykernel_7586/868821141.py:11: SettingWithCopyWarning: \n",
      "A value is trying to be set on a copy of a slice from a DataFrame.\n",
      "Try using .loc[row_indexer,col_indexer] = value instead\n",
      "\n",
      "See the caveats in the documentation: https://pandas.pydata.org/pandas-docs/stable/user_guide/indexing.html#returning-a-view-versus-a-copy\n",
      "  aa['tripulantes'] = aa['tripulantes'].fillna(pd.NA).astype('Int64')\n"
     ]
    }
   ],
   "source": [
    "# Reemplazar los valores nulos por un valor vacío\n",
    "aa['tripulantes'] = aa['tripulantes'].fillna('')\n",
    "\n",
    "# Reemplazar los valores de ? por un valor vacío\n",
    "aa['tripulantes'] = aa['tripulantes'].str.replace('?', '')\n",
    "\n",
    "# Utilizar pd.to_numeric con errors='coerce' para convertir a números y mantener NaN en lugar de eliminar filas\n",
    "aa['tripulantes'] = pd.to_numeric(aa['tripulantes'], errors='coerce')\n",
    "\n",
    "# Convertir la columna 'tripulantes' a tipo entero (int) manteniendo NaN\n",
    "aa['tripulantes'] = aa['tripulantes'].fillna(pd.NA).astype('Int64')\n"
   ]
  },
  {
   "cell_type": "code",
   "execution_count": 67,
   "metadata": {},
   "outputs": [
    {
     "name": "stderr",
     "output_type": "stream",
     "text": [
      "/tmp/ipykernel_7586/2228817691.py:2: SettingWithCopyWarning: \n",
      "A value is trying to be set on a copy of a slice from a DataFrame.\n",
      "Try using .loc[row_indexer,col_indexer] = value instead\n",
      "\n",
      "See the caveats in the documentation: https://pandas.pydata.org/pandas-docs/stable/user_guide/indexing.html#returning-a-view-versus-a-copy\n",
      "  aa['bajas_pasajeros'] = aa['bajas_pasajeros'].fillna('')\n",
      "/tmp/ipykernel_7586/2228817691.py:5: SettingWithCopyWarning: \n",
      "A value is trying to be set on a copy of a slice from a DataFrame.\n",
      "Try using .loc[row_indexer,col_indexer] = value instead\n",
      "\n",
      "See the caveats in the documentation: https://pandas.pydata.org/pandas-docs/stable/user_guide/indexing.html#returning-a-view-versus-a-copy\n",
      "  aa['bajas_pasajeros'] = aa['bajas_pasajeros'].str.replace('?', '')\n",
      "/tmp/ipykernel_7586/2228817691.py:8: SettingWithCopyWarning: \n",
      "A value is trying to be set on a copy of a slice from a DataFrame.\n",
      "Try using .loc[row_indexer,col_indexer] = value instead\n",
      "\n",
      "See the caveats in the documentation: https://pandas.pydata.org/pandas-docs/stable/user_guide/indexing.html#returning-a-view-versus-a-copy\n",
      "  aa['bajas_pasajeros'] = pd.to_numeric(aa['bajas_pasajeros'], errors='coerce')\n",
      "/tmp/ipykernel_7586/2228817691.py:11: SettingWithCopyWarning: \n",
      "A value is trying to be set on a copy of a slice from a DataFrame.\n",
      "Try using .loc[row_indexer,col_indexer] = value instead\n",
      "\n",
      "See the caveats in the documentation: https://pandas.pydata.org/pandas-docs/stable/user_guide/indexing.html#returning-a-view-versus-a-copy\n",
      "  aa['bajas_pasajeros'] = aa['bajas_pasajeros'].fillna(pd.NA).astype('Int64')\n"
     ]
    }
   ],
   "source": [
    "# Reemplazar los valores nulos por un valor vacío\n",
    "aa['bajas_pasajeros'] = aa['bajas_pasajeros'].fillna('')\n",
    "\n",
    "# Reemplazar los valores de ? por un valor vacío\n",
    "aa['bajas_pasajeros'] = aa['bajas_pasajeros'].str.replace('?', '')\n",
    "\n",
    "# Utilizar pd.to_numeric con errors='coerce' para convertir a números y mantener NaN en lugar de eliminar filas\n",
    "aa['bajas_pasajeros'] = pd.to_numeric(aa['bajas_pasajeros'], errors='coerce')\n",
    "\n",
    "# Convertir la columna 'tripulantes' a tipo entero (int) manteniendo NaN\n",
    "aa['bajas_pasajeros'] = aa['bajas_pasajeros'].fillna(pd.NA).astype('Int64')\n"
   ]
  },
  {
   "cell_type": "code",
   "execution_count": 68,
   "metadata": {},
   "outputs": [
    {
     "name": "stderr",
     "output_type": "stream",
     "text": [
      "/tmp/ipykernel_7586/3341154712.py:2: SettingWithCopyWarning: \n",
      "A value is trying to be set on a copy of a slice from a DataFrame.\n",
      "Try using .loc[row_indexer,col_indexer] = value instead\n",
      "\n",
      "See the caveats in the documentation: https://pandas.pydata.org/pandas-docs/stable/user_guide/indexing.html#returning-a-view-versus-a-copy\n",
      "  aa['bajas_tripulacion'] = aa['bajas_tripulacion'].fillna('')\n",
      "/tmp/ipykernel_7586/3341154712.py:5: SettingWithCopyWarning: \n",
      "A value is trying to be set on a copy of a slice from a DataFrame.\n",
      "Try using .loc[row_indexer,col_indexer] = value instead\n",
      "\n",
      "See the caveats in the documentation: https://pandas.pydata.org/pandas-docs/stable/user_guide/indexing.html#returning-a-view-versus-a-copy\n",
      "  aa['bajas_tripulacion'] = aa['bajas_tripulacion'].str.replace('?', '')\n",
      "/tmp/ipykernel_7586/3341154712.py:8: SettingWithCopyWarning: \n",
      "A value is trying to be set on a copy of a slice from a DataFrame.\n",
      "Try using .loc[row_indexer,col_indexer] = value instead\n",
      "\n",
      "See the caveats in the documentation: https://pandas.pydata.org/pandas-docs/stable/user_guide/indexing.html#returning-a-view-versus-a-copy\n",
      "  aa['bajas_tripulacion'] = pd.to_numeric(aa['bajas_tripulacion'], errors='coerce')\n",
      "/tmp/ipykernel_7586/3341154712.py:11: SettingWithCopyWarning: \n",
      "A value is trying to be set on a copy of a slice from a DataFrame.\n",
      "Try using .loc[row_indexer,col_indexer] = value instead\n",
      "\n",
      "See the caveats in the documentation: https://pandas.pydata.org/pandas-docs/stable/user_guide/indexing.html#returning-a-view-versus-a-copy\n",
      "  aa['bajas_tripulacion'] = aa['bajas_tripulacion'].fillna(pd.NA).astype('Int64')\n"
     ]
    }
   ],
   "source": [
    "# Reemplazar los valores nulos por un valor vacío\n",
    "aa['bajas_tripulacion'] = aa['bajas_tripulacion'].fillna('')\n",
    "\n",
    "# Reemplazar los valores de ? por un valor vacío\n",
    "aa['bajas_tripulacion'] = aa['bajas_tripulacion'].str.replace('?', '')\n",
    "\n",
    "# Utilizar pd.to_numeric con errors='coerce' para convertir a números y mantener NaN en lugar de eliminar filas\n",
    "aa['bajas_tripulacion'] = pd.to_numeric(aa['bajas_tripulacion'], errors='coerce')\n",
    "\n",
    "# Convertir la columna 'tripulantes' a tipo entero (int) manteniendo NaN\n",
    "aa['bajas_tripulacion'] = aa['bajas_tripulacion'].fillna(pd.NA).astype('Int64')\n"
   ]
  },
  {
   "cell_type": "code",
   "execution_count": 69,
   "metadata": {},
   "outputs": [
    {
     "name": "stderr",
     "output_type": "stream",
     "text": [
      "/tmp/ipykernel_7586/1730188941.py:2: SettingWithCopyWarning: \n",
      "A value is trying to be set on a copy of a slice from a DataFrame.\n",
      "Try using .loc[row_indexer,col_indexer] = value instead\n",
      "\n",
      "See the caveats in the documentation: https://pandas.pydata.org/pandas-docs/stable/user_guide/indexing.html#returning-a-view-versus-a-copy\n",
      "  aa['bajas_tierra'] = aa['bajas_tierra'].fillna('')\n",
      "/tmp/ipykernel_7586/1730188941.py:5: SettingWithCopyWarning: \n",
      "A value is trying to be set on a copy of a slice from a DataFrame.\n",
      "Try using .loc[row_indexer,col_indexer] = value instead\n",
      "\n",
      "See the caveats in the documentation: https://pandas.pydata.org/pandas-docs/stable/user_guide/indexing.html#returning-a-view-versus-a-copy\n",
      "  aa['bajas_tierra'] = aa['bajas_tierra'].str.replace('?', '')\n",
      "/tmp/ipykernel_7586/1730188941.py:8: SettingWithCopyWarning: \n",
      "A value is trying to be set on a copy of a slice from a DataFrame.\n",
      "Try using .loc[row_indexer,col_indexer] = value instead\n",
      "\n",
      "See the caveats in the documentation: https://pandas.pydata.org/pandas-docs/stable/user_guide/indexing.html#returning-a-view-versus-a-copy\n",
      "  aa['bajas_tierra'] = pd.to_numeric(aa['bajas_tierra'], errors='coerce')\n",
      "/tmp/ipykernel_7586/1730188941.py:11: SettingWithCopyWarning: \n",
      "A value is trying to be set on a copy of a slice from a DataFrame.\n",
      "Try using .loc[row_indexer,col_indexer] = value instead\n",
      "\n",
      "See the caveats in the documentation: https://pandas.pydata.org/pandas-docs/stable/user_guide/indexing.html#returning-a-view-versus-a-copy\n",
      "  aa['bajas_tierra'] = aa['bajas_tierra'].fillna(pd.NA).astype('Int64')\n"
     ]
    }
   ],
   "source": [
    "# Reemplazar los valores nulos por un valor vacío\n",
    "aa['bajas_tierra'] = aa['bajas_tierra'].fillna('')\n",
    "\n",
    "# Reemplazar los valores de ? por un valor vacío\n",
    "aa['bajas_tierra'] = aa['bajas_tierra'].str.replace('?', '')\n",
    "\n",
    "# Utilizar pd.to_numeric con errors='coerce' para convertir a números y mantener NaN en lugar de eliminar filas\n",
    "aa['bajas_tierra'] = pd.to_numeric(aa['bajas_tierra'], errors='coerce')\n",
    "\n",
    "# Convertir la columna 'tripulantes' a tipo entero (int) manteniendo NaN\n",
    "aa['bajas_tierra'] = aa['bajas_tierra'].fillna(pd.NA).astype('Int64')"
   ]
  },
  {
   "cell_type": "code",
   "execution_count": 70,
   "metadata": {},
   "outputs": [
    {
     "name": "stderr",
     "output_type": "stream",
     "text": [
      "/tmp/ipykernel_7586/173493017.py:2: SettingWithCopyWarning: \n",
      "A value is trying to be set on a copy of a slice from a DataFrame.\n",
      "Try using .loc[row_indexer,col_indexer] = value instead\n",
      "\n",
      "See the caveats in the documentation: https://pandas.pydata.org/pandas-docs/stable/user_guide/indexing.html#returning-a-view-versus-a-copy\n",
      "  aa['pasajeros'] = aa['pasajeros'].fillna('')\n",
      "/tmp/ipykernel_7586/173493017.py:5: SettingWithCopyWarning: \n",
      "A value is trying to be set on a copy of a slice from a DataFrame.\n",
      "Try using .loc[row_indexer,col_indexer] = value instead\n",
      "\n",
      "See the caveats in the documentation: https://pandas.pydata.org/pandas-docs/stable/user_guide/indexing.html#returning-a-view-versus-a-copy\n",
      "  aa['pasajeros'] = aa['pasajeros'].str.replace('?', '')\n",
      "/tmp/ipykernel_7586/173493017.py:8: SettingWithCopyWarning: \n",
      "A value is trying to be set on a copy of a slice from a DataFrame.\n",
      "Try using .loc[row_indexer,col_indexer] = value instead\n",
      "\n",
      "See the caveats in the documentation: https://pandas.pydata.org/pandas-docs/stable/user_guide/indexing.html#returning-a-view-versus-a-copy\n",
      "  aa['pasajeros'] = pd.to_numeric(aa['pasajeros'], errors='coerce')\n",
      "/tmp/ipykernel_7586/173493017.py:11: SettingWithCopyWarning: \n",
      "A value is trying to be set on a copy of a slice from a DataFrame.\n",
      "Try using .loc[row_indexer,col_indexer] = value instead\n",
      "\n",
      "See the caveats in the documentation: https://pandas.pydata.org/pandas-docs/stable/user_guide/indexing.html#returning-a-view-versus-a-copy\n",
      "  aa['pasajeros'] = aa['pasajeros'].fillna(pd.NA).astype('Int64')\n"
     ]
    }
   ],
   "source": [
    "# Reemplazar los valores nulos por un valor vacío\n",
    "aa['pasajeros'] = aa['pasajeros'].fillna('')\n",
    "\n",
    "# Reemplazar los valores de ? por un valor vacío\n",
    "aa['pasajeros'] = aa['pasajeros'].str.replace('?', '')\n",
    "\n",
    "# Utilizar pd.to_numeric con errors='coerce' para convertir a números y mantener NaN en lugar de eliminar filas\n",
    "aa['pasajeros'] = pd.to_numeric(aa['pasajeros'], errors='coerce')\n",
    "\n",
    "# Convertir la columna 'tripulantes' a tipo entero (int) manteniendo NaN\n",
    "aa['pasajeros'] = aa['pasajeros'].fillna(pd.NA).astype('Int64')"
   ]
  },
  {
   "cell_type": "code",
   "execution_count": 71,
   "metadata": {},
   "outputs": [
    {
     "name": "stderr",
     "output_type": "stream",
     "text": [
      "/tmp/ipykernel_7586/1399452123.py:7: SettingWithCopyWarning: \n",
      "A value is trying to be set on a copy of a slice from a DataFrame.\n",
      "Try using .loc[row_indexer,col_indexer] = value instead\n",
      "\n",
      "See the caveats in the documentation: https://pandas.pydata.org/pandas-docs/stable/user_guide/indexing.html#returning-a-view-versus-a-copy\n",
      "  aa['Descripcion'] = aa['Descripcion'].apply(limpiar_descripcion)\n",
      "/tmp/ipykernel_7586/1399452123.py:8: SettingWithCopyWarning: \n",
      "A value is trying to be set on a copy of a slice from a DataFrame.\n",
      "Try using .loc[row_indexer,col_indexer] = value instead\n",
      "\n",
      "See the caveats in the documentation: https://pandas.pydata.org/pandas-docs/stable/user_guide/indexing.html#returning-a-view-versus-a-copy\n",
      "  aa['operadora'] = aa['operadora'].apply(limpiar_descripcion)\n",
      "/tmp/ipykernel_7586/1399452123.py:9: SettingWithCopyWarning: \n",
      "A value is trying to be set on a copy of a slice from a DataFrame.\n",
      "Try using .loc[row_indexer,col_indexer] = value instead\n",
      "\n",
      "See the caveats in the documentation: https://pandas.pydata.org/pandas-docs/stable/user_guide/indexing.html#returning-a-view-versus-a-copy\n",
      "  aa['ruta'] = aa['ruta'].apply(limpiar_descripcion)\n"
     ]
    }
   ],
   "source": [
    "def limpiar_descripcion(texto):\n",
    "    # Utiliza una expresión regular para eliminar caracteres especiales, incluido '\\r'\n",
    "    texto_limpio = re.sub(r'[^a-zA-Z0-9\\s]', '', re.sub(r'[\\r]', ' ', texto))\n",
    "    return texto_limpio\n",
    "\n",
    "# debido a '\\r' tuve algunos inconvenientes.\n",
    "aa['Descripcion'] = aa['Descripcion'].apply(limpiar_descripcion)\n",
    "aa['operadora'] = aa['operadora'].apply(limpiar_descripcion)\n",
    "aa['ruta'] = aa['ruta'].apply(limpiar_descripcion)\n",
    "\n"
   ]
  },
  {
   "cell_type": "code",
   "execution_count": 72,
   "metadata": {},
   "outputs": [],
   "source": [
    "# guardo en csv. \n",
    "aa.to_csv('avis.csv',index=False,sep='|',encoding='utf-8')"
   ]
  },
  {
   "cell_type": "code",
   "execution_count": 73,
   "metadata": {},
   "outputs": [
    {
     "name": "stdout",
     "output_type": "stream",
     "text": [
      "<class 'pandas.core.frame.DataFrame'>\n",
      "Index: 4991 entries, 0 to 5007\n",
      "Data columns (total 16 columns):\n",
      " #   Column             Non-Null Count  Dtype         \n",
      "---  ------             --------------  -----         \n",
      " 0   fecha              4991 non-null   datetime64[ns]\n",
      " 1   hora               4991 non-null   object        \n",
      " 2   pais               4991 non-null   object        \n",
      " 3   operadora          4991 non-null   object        \n",
      " 4   vuelo_numero       4991 non-null   object        \n",
      " 5   ruta               4991 non-null   object        \n",
      " 6   tipo_aeronave      4991 non-null   object        \n",
      " 7   registro_aeronave  189 non-null    float64       \n",
      " 8   abordo             4991 non-null   int64         \n",
      " 9   pasajeros          4787 non-null   Int64         \n",
      " 10  tripulantes        4789 non-null   Int64         \n",
      " 11  bajas              4991 non-null   int64         \n",
      " 12  bajas_pasajeros    4770 non-null   Int64         \n",
      " 13  bajas_tripulacion  4771 non-null   Int64         \n",
      " 14  bajas_tierra       4959 non-null   Int64         \n",
      " 15  Descripcion        4991 non-null   object        \n",
      "dtypes: Int64(5), datetime64[ns](1), float64(1), int64(2), object(7)\n",
      "memory usage: 687.2+ KB\n"
     ]
    }
   ],
   "source": [
    "aa.info()"
   ]
  }
 ],
 "metadata": {
  "kernelspec": {
   "display_name": "Python 3",
   "language": "python",
   "name": "python3"
  },
  "language_info": {
   "codemirror_mode": {
    "name": "ipython",
    "version": 3
   },
   "file_extension": ".py",
   "mimetype": "text/x-python",
   "name": "python",
   "nbconvert_exporter": "python",
   "pygments_lexer": "ipython3",
   "version": "3.10.12"
  }
 },
 "nbformat": 4,
 "nbformat_minor": 2
}
